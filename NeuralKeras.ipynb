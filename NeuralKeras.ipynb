{
 "cells": [
  {
   "cell_type": "code",
   "execution_count": 35,
   "metadata": {},
   "outputs": [],
   "source": [
    "import pandas as pd\n",
    "from sklearn.model_selection import train_test_split\n",
    "from sklearn import metrics\n",
    "from sklearn import preprocessing"
   ]
  },
  {
   "cell_type": "code",
   "execution_count": 36,
   "metadata": {},
   "outputs": [],
   "source": [
    "# data = pd.read_csv(\"csv/walk.csv\",index_col=False)\n",
    "# # X = data[[\"r_hip_ang\", \"r_knee_ang\", \"r_ankle_ang\", \"r_elbow_ang\", \"r_shoulder_ang\",]]\n",
    "#         # \"r_hip_vel\", \"r_knee_vel\", \"r_ankle_vel\", \"r_elbow_vel\", \"r_shoulder_vel\",\n",
    "#         # \"r_hip_accel\", \"r_knee_accel\", \"r_ankle_accel\", \"r_elbow_accel\", \"r_shoulder_accel\"]]\n",
    "# X = data.drop(['id','gender'], axis=1)\n",
    "# y = data['gender']\n",
    "# X  = preprocessing.scale(X)\n",
    "# X_train, X_test, y_train, y_test = train_test_split(X, y, test_size = 0.20)"
   ]
  },
  {
   "cell_type": "code",
   "execution_count": 37,
   "metadata": {},
   "outputs": [],
   "source": [
    "data = pd.read_csv(\"csv/walk.csv\",index_col=False)\n",
    "encode = {'<40': 0, '>40': 1}\n",
    "\n",
    "X = data.loc[data['id'].isin([1,2,4,5])]\n",
    "X_train = X [[\"r_hip_ang\", \"r_knee_ang\", \"r_ankle_ang\", \"r_elbow_ang\", \"r_shoulder_ang\",\n",
    "        \"r_hip_vel\", \"r_knee_vel\", \"r_ankle_vel\", \"r_elbow_vel\", \"r_shoulder_vel\",\n",
    "        \"r_hip_accel\", \"r_knee_accel\", \"r_ankle_accel\", \"r_elbow_accel\", \"r_shoulder_accel\"]]\n",
    "#X_train = X.drop(['id','gender','age'],axis=1)\n",
    "X_train = preprocessing.scale(X_train)\n",
    "y_train = X['age'].map(encode)\n",
    "\n",
    "\n",
    "X2 = data.loc[data['id'].isin([3,6,7])]\n",
    "X_test = X2 [[\"r_hip_ang\", \"r_knee_ang\", \"r_ankle_ang\", \"r_elbow_ang\", \"r_shoulder_ang\",\n",
    "        \"r_hip_vel\", \"r_knee_vel\", \"r_ankle_vel\", \"r_elbow_vel\", \"r_shoulder_vel\",\n",
    "        \"r_hip_accel\", \"r_knee_accel\", \"r_ankle_accel\", \"r_elbow_accel\", \"r_shoulder_accel\"]]\n",
    "#X_test = X2.drop(['id','gender','age'],axis=1)\n",
    "X_test = preprocessing.scale(X_test)\n",
    "y_test = X2['age'].map(encode)\n"
   ]
  },
  {
   "cell_type": "code",
   "execution_count": 38,
   "metadata": {},
   "outputs": [
    {
     "name": "stderr",
     "output_type": "stream",
     "text": [
      "c:\\Users\\jocel\\AppData\\Local\\Programs\\Python\\Python38\\lib\\site-packages\\keras\\optimizers\\optimizer_v2\\gradient_descent.py:114: UserWarning: The `lr` argument is deprecated, use `learning_rate` instead.\n",
      "  super().__init__(name, **kwargs)\n"
     ]
    }
   ],
   "source": [
    "import keras\n",
    "from keras.models import Sequential   # importing Sequential model\n",
    "from keras.layers import Dense        # importing Dense layers\n",
    "\n",
    "\n",
    "# declaring model\n",
    "basic_model = Sequential()\n",
    "\n",
    "# Adding layers to the model\n",
    "# First layers: 16 neurons/perceptrons that takes the input and uses 'sigmoid' activation function.\n",
    "basic_model.add(Dense(units = 16 , activation = 'sigmoid', input_shape = (15,))) \n",
    "# Second layer: 1 neuron/perceptron that takes the input from the 1st layers and gives output as 0 or 1.Activation used is 'Hard Sigmoid'\n",
    "basic_model.add(Dense(1, activation = 'hard_sigmoid'))\n",
    "\n",
    "# compiling the model\n",
    "sgd = keras.optimizers.SGD(lr=0.5, momentum=0.9, nesterov=True)\n",
    "basic_model.compile(loss = 'binary_crossentropy', optimizer = 'sgd', metrics = ['accuracy'])\n",
    "     "
   ]
  },
  {
   "cell_type": "code",
   "execution_count": 39,
   "metadata": {},
   "outputs": [
    {
     "name": "stdout",
     "output_type": "stream",
     "text": [
      "Epoch 1/30\n",
      "1639/1639 [==============================] - 4s 2ms/step - loss: 0.6861 - accuracy: 0.5598\n",
      "Epoch 2/30\n",
      "1639/1639 [==============================] - 3s 2ms/step - loss: 0.6696 - accuracy: 0.5971\n",
      "Epoch 3/30\n",
      "1639/1639 [==============================] - 3s 2ms/step - loss: 0.6613 - accuracy: 0.6024\n",
      "Epoch 4/30\n",
      "1639/1639 [==============================] - 3s 2ms/step - loss: 0.6573 - accuracy: 0.6024\n",
      "Epoch 5/30\n",
      "1639/1639 [==============================] - 3s 2ms/step - loss: 0.6553 - accuracy: 0.6000\n",
      "Epoch 6/30\n",
      "1639/1639 [==============================] - 4s 2ms/step - loss: 0.6542 - accuracy: 0.5989\n",
      "Epoch 7/30\n",
      "1639/1639 [==============================] - 3s 2ms/step - loss: 0.6533 - accuracy: 0.5978\n",
      "Epoch 8/30\n",
      "1639/1639 [==============================] - 3s 2ms/step - loss: 0.6525 - accuracy: 0.5968\n",
      "Epoch 9/30\n",
      "1639/1639 [==============================] - 3s 2ms/step - loss: 0.6518 - accuracy: 0.5966\n",
      "Epoch 10/30\n",
      "1639/1639 [==============================] - 3s 2ms/step - loss: 0.6511 - accuracy: 0.5965\n",
      "Epoch 11/30\n",
      "1639/1639 [==============================] - 3s 2ms/step - loss: 0.6503 - accuracy: 0.5975\n",
      "Epoch 12/30\n",
      "1639/1639 [==============================] - 3s 2ms/step - loss: 0.6495 - accuracy: 0.5975\n",
      "Epoch 13/30\n",
      "1639/1639 [==============================] - 3s 2ms/step - loss: 0.6487 - accuracy: 0.5973\n",
      "Epoch 14/30\n",
      "1639/1639 [==============================] - 3s 2ms/step - loss: 0.6478 - accuracy: 0.5972\n",
      "Epoch 15/30\n",
      "1639/1639 [==============================] - 4s 2ms/step - loss: 0.6469 - accuracy: 0.5984\n",
      "Epoch 16/30\n",
      "1639/1639 [==============================] - 3s 2ms/step - loss: 0.6460 - accuracy: 0.5978\n",
      "Epoch 17/30\n",
      "1639/1639 [==============================] - 3s 2ms/step - loss: 0.6450 - accuracy: 0.5998\n",
      "Epoch 18/30\n",
      "1639/1639 [==============================] - 3s 2ms/step - loss: 0.6439 - accuracy: 0.5997\n",
      "Epoch 19/30\n",
      "1639/1639 [==============================] - 3s 2ms/step - loss: 0.6429 - accuracy: 0.6016\n",
      "Epoch 20/30\n",
      "1639/1639 [==============================] - 5s 3ms/step - loss: 0.6419 - accuracy: 0.6006\n",
      "Epoch 21/30\n",
      "1639/1639 [==============================] - 4s 3ms/step - loss: 0.6408 - accuracy: 0.6021\n",
      "Epoch 22/30\n",
      "1639/1639 [==============================] - 4s 2ms/step - loss: 0.6398 - accuracy: 0.6035\n",
      "Epoch 23/30\n",
      "1639/1639 [==============================] - 4s 2ms/step - loss: 0.6387 - accuracy: 0.6037\n",
      "Epoch 24/30\n",
      "1639/1639 [==============================] - 3s 2ms/step - loss: 0.6376 - accuracy: 0.6055\n",
      "Epoch 25/30\n",
      "1639/1639 [==============================] - 3s 2ms/step - loss: 0.6365 - accuracy: 0.6064\n",
      "Epoch 26/30\n",
      "1639/1639 [==============================] - 3s 2ms/step - loss: 0.6354 - accuracy: 0.6063\n",
      "Epoch 27/30\n",
      "1639/1639 [==============================] - 3s 2ms/step - loss: 0.6342 - accuracy: 0.6072\n",
      "Epoch 28/30\n",
      "1639/1639 [==============================] - 3s 2ms/step - loss: 0.6332 - accuracy: 0.6080\n",
      "Epoch 29/30\n",
      "1639/1639 [==============================] - 3s 2ms/step - loss: 0.6320 - accuracy: 0.6090\n",
      "Epoch 30/30\n",
      "1639/1639 [==============================] - 3s 2ms/step - loss: 0.6309 - accuracy: 0.6100\n",
      "717/717 [==============================] - 2s 2ms/step - loss: 0.5734 - accuracy: 0.7144\n",
      "Loss =  0.5734329223632812\n",
      "Accuracy =  0.7143667340278625\n"
     ]
    }
   ],
   "source": [
    "# training the model\n",
    "basic_model.fit(X_train, y_train, epochs=30)\n",
    "loss_and_metrics = basic_model.evaluate(X_test, y_test)\n",
    "print('Loss = ',loss_and_metrics[0])\n",
    "print('Accuracy = ',loss_and_metrics[1])"
   ]
  }
 ],
 "metadata": {
  "kernelspec": {
   "display_name": "Python 3",
   "language": "python",
   "name": "python3"
  },
  "language_info": {
   "codemirror_mode": {
    "name": "ipython",
    "version": 3
   },
   "file_extension": ".py",
   "mimetype": "text/x-python",
   "name": "python",
   "nbconvert_exporter": "python",
   "pygments_lexer": "ipython3",
   "version": "3.8.0"
  },
  "orig_nbformat": 4,
  "vscode": {
   "interpreter": {
    "hash": "8f7966f791852dc8d3efa84237a2aea877d88803fed36f0ab10ea74530d7a649"
   }
  }
 },
 "nbformat": 4,
 "nbformat_minor": 2
}
