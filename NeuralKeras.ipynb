{
 "cells": [
  {
   "cell_type": "code",
   "execution_count": 1,
   "metadata": {},
   "outputs": [],
   "source": [
    "import pandas as pd\n",
    "from sklearn.model_selection import train_test_split\n",
    "from sklearn import metrics\n",
    "from sklearn import preprocessing\n",
    "import keras\n",
    "from keras.models import Sequential   # importing Sequential model\n",
    "from keras.layers import Dense        # importing Dense layers\n",
    "from keras.layers import Embedding\n",
    "from keras.layers import LSTM\n",
    "from scikeras.wrappers import KerasClassifier"
   ]
  },
  {
   "cell_type": "code",
   "execution_count": 2,
   "metadata": {},
   "outputs": [],
   "source": [
    "# data = pd.read_csv(\"csv/walk.csv\",index_col=False)\n",
    "# encode = {'<40': 0, '>40': 1}\n",
    "\n",
    "# X = data[[\"r_hip_ang\", \"r_knee_ang\", \"r_ankle_ang\", \"r_elbow_ang\", \"r_shoulder_ang\",\n",
    "#         \"r_hip_vel\", \"r_knee_vel\", \"r_ankle_vel\", \"r_elbow_vel\", \"r_shoulder_vel\",\n",
    "#         \"r_hip_accel\", \"r_knee_accel\", \"r_ankle_accel\", \"r_elbow_accel\", \"r_shoulder_accel\"]]\n",
    "# #X = data.drop(['id','gender','age'], axis=1)\n",
    "# y = data['age'].map(encode)\n",
    "# X  = preprocessing.scale(X)\n",
    "# X_train, X_test, y_train, y_test = train_test_split(X, y, test_size = 0.20)"
   ]
  },
  {
   "cell_type": "code",
   "execution_count": 24,
   "metadata": {},
   "outputs": [
    {
     "name": "stdout",
     "output_type": "stream",
     "text": [
      "(71127, 46)\n",
      "[[[-1.43204348e+00]\n",
      "  [ 1.15480396e+00]\n",
      "  [ 4.46739273e-01]\n",
      "  ...\n",
      "  [-4.92667717e-03]\n",
      "  [ 1.66615859e-02]\n",
      "  [-1.70329647e-03]]\n",
      "\n",
      " [[-1.41423775e+00]\n",
      "  [ 1.15074718e+00]\n",
      "  [ 4.48725446e-01]\n",
      "  ...\n",
      "  [-4.92667717e-03]\n",
      "  [ 1.66615859e-02]\n",
      "  [-1.70329647e-03]]\n",
      "\n",
      " [[-1.39643202e+00]\n",
      "  [ 1.14882045e+00]\n",
      "  [ 4.52326571e-01]\n",
      "  ...\n",
      "  [-4.92667717e-03]\n",
      "  [ 1.66615859e-02]\n",
      "  [-1.70329647e-03]]\n",
      "\n",
      " ...\n",
      "\n",
      " [[ 2.59205111e+00]\n",
      "  [ 1.25749387e+00]\n",
      "  [ 5.61765680e-01]\n",
      "  ...\n",
      "  [-4.69934425e-03]\n",
      "  [ 1.50163281e-02]\n",
      "  [-1.95580776e-03]]\n",
      "\n",
      " [[ 2.60985684e+00]\n",
      "  [ 1.25749387e+00]\n",
      "  [ 5.61765680e-01]\n",
      "  ...\n",
      "  [-5.23978884e-03]\n",
      "  [ 1.67969304e-02]\n",
      "  [-5.76174689e-04]]\n",
      "\n",
      " [[ 2.62766257e+00]\n",
      "  [ 1.31175131e+00]\n",
      "  [ 6.44708733e-01]\n",
      "  ...\n",
      "  [-5.03754286e-03]\n",
      "  [ 1.67816320e-02]\n",
      "  [-1.16965381e-03]]]\n"
     ]
    }
   ],
   "source": [
    "data = pd.read_csv(\"csv/walk.csv\",index_col=False)\n",
    "encode = {'<40': 0, '>40': 1}\n",
    "\n",
    "X = data.loc[data['id'].isin([2,3,4,5,6,7,8,9])] # 1,4 and 2,5 huge loss\n",
    "# X_train = X [[\"r_hip_ang\", \"r_knee_ang\", \"r_ankle_ang\", \"r_elbow_ang\", \"r_shoulder_ang\",\n",
    "#         \"r_hip_vel\", \"r_knee_vel\", \"r_ankle_vel\", \"r_elbow_vel\", \"r_shoulder_vel\",\n",
    "#         \"r_hip_accel\", \"r_knee_accel\", \"r_ankle_accel\", \"r_elbow_accel\", \"r_shoulder_accel\"]]\n",
    "X_train = X.drop(['id','gender','age'],axis=1)\n",
    "#X_train = X_train.sample(frac = 1)\n",
    "X_train = preprocessing.scale(X_train)\n",
    "y_train = X['age'].map(encode)\n",
    "\n",
    "\n",
    "X2 = data.loc[data['id'].isin([1,10])]\n",
    "# X_test = X2 [[\"r_hip_ang\", \"r_knee_ang\", \"r_ankle_ang\", \"r_elbow_ang\", \"r_shoulder_ang\",\n",
    "#         \"r_hip_vel\", \"r_knee_vel\", \"r_ankle_vel\", \"r_elbow_vel\", \"r_shoulder_vel\",\n",
    "#         \"r_hip_accel\", \"r_knee_accel\", \"r_ankle_accel\", \"r_elbow_accel\", \"r_shoulder_accel\"]]\n",
    "X_test = X2.drop(['id','gender','age'],axis=1)\n",
    "#X_test = X_test.sample(frac = 1)\n",
    "X_test = preprocessing.scale(X_test)\n",
    "y_test = X2['age'].map(encode)\n",
    "\n",
    "print(X_train.shape)\n",
    "X_train=X_train.reshape(X_train.shape[0],X_train.shape[1],1)\n",
    "print(X_train)\n"
   ]
  },
  {
   "cell_type": "code",
   "execution_count": 25,
   "metadata": {},
   "outputs": [],
   "source": [
    "def create_model():\n",
    "    # declaring model\n",
    "    basic_model = Sequential()\n",
    "\n",
    "    # Adding layers to the model\n",
    "    # First layers: 16 neurons/perceptrons that takes the input and uses 'sigmoid' activation function.\n",
    "    # basic_model.add(Dense(units = 32, activation = 'relu', input_shape = (46,))) #32 16 16 best for Train 1,2,4,5 & Test 3,6,7\n",
    "    # basic_model.add(Dense(units = 32, activation = 'relu')) #64 with Train 2,3,4,5 & Test 1,10\n",
    "    # basic_model.add(Dense(units = 16, activation = 'relu')) \n",
    "\n",
    "    basic_model.add(LSTM(units=64))\n",
    "\n",
    "    # Last layer: 1 neuron/perceptron that takes the input from the 1st layers and gives output as 0 or 1.Activation used is 'Hard Sigmoid'\n",
    "    basic_model.add(Dense(1, activation = 'sigmoid'))\n",
    "\n",
    "    return basic_model\n",
    "\n",
    "# compiling the model\n",
    "basic_model = create_model()\n",
    "#sgd = keras.optimizers.SGD(learning_rate=0.02, momentum=0.9, nesterov=True)\n",
    "#rmsprop = keras.optimizers.RMSprop(learning_rate=0.02)\n",
    "basic_model.compile(loss = 'binary_crossentropy', optimizer = 'RMSprop', metrics = ['accuracy'])\n",
    "     "
   ]
  },
  {
   "cell_type": "code",
   "execution_count": 77,
   "metadata": {},
   "outputs": [],
   "source": [
    "# # GridSearch stuff\n",
    "\n",
    "# from sklearn.model_selection import GridSearchCV\n",
    "\n",
    "# model = KerasClassifier(model=create_model, loss=\"binary_crossentropy\", epochs=100, batch_size=50, verbose=0)\n",
    "# optimizer = ['SGD', 'RMSprop', 'Adagrad', 'Adadelta', 'Adam', 'Adamax', 'Nadam']\n",
    "# # current results: Nadam \n",
    "# param_grid = dict(optimizer=optimizer)\n",
    "# grid = GridSearchCV(estimator=model, param_grid=param_grid, n_jobs=-1, cv=3)\n",
    "# grid_result = grid.fit(X_train, y_train)\n",
    "\n",
    "# # summarize results\n",
    "# print(\"Best: %f using %s\" % (grid_result.best_score_, grid_result.best_params_))\n",
    "# means = grid_result.cv_results_['mean_test_score']\n",
    "# stds = grid_result.cv_results_['std_test_score']\n",
    "# params = grid_result.cv_results_['params']\n",
    "# for mean, stdev, param in zip(means, stds, params):\n",
    "#     print(\"%f (%f) with: %r\" % (mean, stdev, param))"
   ]
  },
  {
   "cell_type": "code",
   "execution_count": 28,
   "metadata": {},
   "outputs": [
    {
     "name": "stdout",
     "output_type": "stream",
     "text": [
      "Epoch 1/30\n",
      "1112/1112 [==============================] - 31s 28ms/step - loss: 0.3489 - accuracy: 0.8424\n",
      "Epoch 2/30\n",
      "1112/1112 [==============================] - 32s 28ms/step - loss: 0.3357 - accuracy: 0.8507\n",
      "Epoch 3/30\n",
      "1112/1112 [==============================] - 32s 29ms/step - loss: 0.3216 - accuracy: 0.8584\n",
      "Epoch 4/30\n",
      "1112/1112 [==============================] - 33s 29ms/step - loss: 0.3117 - accuracy: 0.8647\n",
      "Epoch 5/30\n",
      "1112/1112 [==============================] - 32s 29ms/step - loss: 0.2992 - accuracy: 0.8703\n",
      "Epoch 6/30\n",
      "1112/1112 [==============================] - 32s 29ms/step - loss: 0.2871 - accuracy: 0.8754\n",
      "Epoch 7/30\n",
      "1112/1112 [==============================] - 32s 29ms/step - loss: 0.2771 - accuracy: 0.8815\n",
      "Epoch 8/30\n",
      "1112/1112 [==============================] - 31s 28ms/step - loss: 0.2683 - accuracy: 0.8863\n",
      "Epoch 9/30\n",
      "1112/1112 [==============================] - 32s 29ms/step - loss: 0.2600 - accuracy: 0.8910\n",
      "Epoch 10/30\n",
      "1112/1112 [==============================] - 28s 26ms/step - loss: 0.2517 - accuracy: 0.8945\n",
      "Epoch 11/30\n",
      "1112/1112 [==============================] - 31s 28ms/step - loss: 0.2437 - accuracy: 0.8987\n",
      "Epoch 12/30\n",
      "1112/1112 [==============================] - 31s 28ms/step - loss: 0.2349 - accuracy: 0.9034\n",
      "Epoch 13/30\n",
      "1112/1112 [==============================] - 31s 28ms/step - loss: 0.2277 - accuracy: 0.9052\n",
      "Epoch 14/30\n",
      "1112/1112 [==============================] - 33s 29ms/step - loss: 0.2210 - accuracy: 0.9088\n",
      "Epoch 15/30\n",
      "1112/1112 [==============================] - 32s 29ms/step - loss: 0.2142 - accuracy: 0.9115\n",
      "Epoch 16/30\n",
      "1112/1112 [==============================] - 31s 28ms/step - loss: 0.2081 - accuracy: 0.9150\n",
      "Epoch 17/30\n",
      "1112/1112 [==============================] - 30s 27ms/step - loss: 0.2028 - accuracy: 0.9172\n",
      "Epoch 18/30\n",
      "1112/1112 [==============================] - 30s 27ms/step - loss: 0.1965 - accuracy: 0.9188\n",
      "Epoch 19/30\n",
      "1112/1112 [==============================] - 29s 26ms/step - loss: 0.1917 - accuracy: 0.9222\n",
      "Epoch 20/30\n",
      "1112/1112 [==============================] - 29s 26ms/step - loss: 0.1880 - accuracy: 0.9244\n",
      "Epoch 21/30\n",
      "1112/1112 [==============================] - 28s 25ms/step - loss: 0.1812 - accuracy: 0.9261\n",
      "Epoch 22/30\n",
      "1112/1112 [==============================] - 29s 26ms/step - loss: 0.1776 - accuracy: 0.9299\n",
      "Epoch 23/30\n",
      "1112/1112 [==============================] - 28s 25ms/step - loss: 0.1729 - accuracy: 0.9308\n",
      "Epoch 24/30\n",
      "1112/1112 [==============================] - 29s 26ms/step - loss: 0.1699 - accuracy: 0.9316\n",
      "Epoch 25/30\n",
      "1112/1112 [==============================] - 29s 26ms/step - loss: 0.1662 - accuracy: 0.9339\n",
      "Epoch 26/30\n",
      "1112/1112 [==============================] - 28s 25ms/step - loss: 0.1620 - accuracy: 0.9357\n",
      "Epoch 27/30\n",
      "1112/1112 [==============================] - 28s 25ms/step - loss: 0.1585 - accuracy: 0.9368\n",
      "Epoch 28/30\n",
      "1112/1112 [==============================] - 28s 25ms/step - loss: 0.1560 - accuracy: 0.9380\n",
      "Epoch 29/30\n",
      "1112/1112 [==============================] - 27s 25ms/step - loss: 0.1529 - accuracy: 0.9394\n",
      "Epoch 30/30\n",
      "1112/1112 [==============================] - 28s 25ms/step - loss: 0.1480 - accuracy: 0.9409\n",
      "904/904 [==============================] - 7s 8ms/step - loss: 1.0442 - accuracy: 0.6865\n",
      "Loss =  1.044227957725525\n",
      "Accuracy =  0.6865160465240479\n"
     ]
    }
   ],
   "source": [
    "# training the model\n",
    "history = basic_model.fit(X_train, y_train, epochs=30, batch_size=64)\n",
    "# history = basic_model.fit(X_train, y_train, validation_split=0.2, epochs=100, batch_size=50) #BEST\n",
    "loss_and_metrics = basic_model.evaluate(X_test, y_test)\n",
    "print('Loss = ',loss_and_metrics[0])\n",
    "print('Accuracy = ',loss_and_metrics[1])"
   ]
  },
  {
   "cell_type": "code",
   "execution_count": 79,
   "metadata": {},
   "outputs": [
    {
     "name": "stdout",
     "output_type": "stream",
     "text": [
      "Train: 0.898, Test: 0.726\n"
     ]
    },
    {
     "data": {
      "image/png": "[encoded data removed]",
      "text/plain": [
       "<Figure size 432x288 with 1 Axes>"
      ]
     },
     "metadata": {
      "needs_background": "light"
     },
     "output_type": "display_data"
    },
    {
     "data": {
      "image/png": "[encoded data removed]",
      "text/plain": [
       "<Figure size 432x288 with 1 Axes>"
      ]
     },
     "metadata": {
      "needs_background": "light"
     },
     "output_type": "display_data"
    }
   ],
   "source": [
    "from matplotlib import pyplot\n",
    "\n",
    "# evaluate the model\n",
    "_, train_acc = basic_model.evaluate(X_train, y_train, verbose=0)\n",
    "_, test_acc = basic_model.evaluate(X_test, y_test, verbose=0)\n",
    "print('Train: %.3f, Test: %.3f' % (train_acc, test_acc))\n",
    "# plot loss during training\n",
    "\n",
    "pyplot.title('Loss')\n",
    "pyplot.plot(history.history['loss'], label='train')\n",
    "pyplot.plot(history.history['val_loss'], label='test')\n",
    "pyplot.legend()\n",
    "pyplot.show()\n",
    "\n",
    "# plot accuracy during training\n",
    "pyplot.title('Accuracy')\n",
    "pyplot.plot(history.history['accuracy'], label='train')\n",
    "pyplot.plot(history.history['val_accuracy'], label='test')\n",
    "pyplot.legend()\n",
    "pyplot.show()\n"
   ]
  },
  {
   "cell_type": "code",
   "execution_count": 80,
   "metadata": {},
   "outputs": [],
   "source": [
    "# # serialize model to JSON\n",
    "# model_json = basic_model.to_json()\n",
    "# with open(\"models/neural_network.json\", \"w\") as json_file:\n",
    "#     json_file.write(model_json)\n",
    "# # serialize weights to HDF5\n",
    "# basic_model.save_weights(\"models/neural_network.h5\")\n",
    "# print(\"Saved model to disk\")"
   ]
  }
 ],
 "metadata": {
  "kernelspec": {
   "display_name": "Python 3",
   "language": "python",
   "name": "python3"
  },
  "language_info": {
   "codemirror_mode": {
    "name": "ipython",
    "version": 3
   },
   "file_extension": ".py",
   "mimetype": "text/x-python",
   "name": "python",
   "nbconvert_exporter": "python",
   "pygments_lexer": "ipython3",
   "version": "3.8.0 (tags/v3.8.0:fa919fd, Oct 14 2019, 19:37:50) [MSC v.1916 64 bit (AMD64)]"
  },
  "orig_nbformat": 4,
  "vscode": {
   "interpreter": {
    "hash": "8f7966f791852dc8d3efa84237a2aea877d88803fed36f0ab10ea74530d7a649"
   }
  }
 },
 "nbformat": 4,
 "nbformat_minor": 2
}
