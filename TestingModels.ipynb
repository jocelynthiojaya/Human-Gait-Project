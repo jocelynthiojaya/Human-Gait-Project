{
 "cells": [
  {
   "cell_type": "code",
   "execution_count": 106,
   "metadata": {},
   "outputs": [],
   "source": [
    "import pandas as pd\n",
    "from sklearn import preprocessing\n",
    "\n",
    "data = pd.read_csv(\"csv/walk.csv\",index_col=False)\n",
    "#encode = {'<40': 0, '>40': 1}\n",
    "\n",
    "X = data.loc[data['id'].isin([1,2])]\n",
    "X_train = X.drop(['id','gender','age'],axis=1)\n",
    "\n",
    "X_train = preprocessing.scale(X_train)\n",
    "y_train = X['age']#.map(encode)\n",
    "\n",
    "\n",
    "X2 = data.loc[data['id'].isin([7])]\n",
    "X_test = X2.drop(['id','gender','age'],axis=1)\n",
    "\n",
    "X_test = preprocessing.scale(X_test)\n",
    "y_test = X2['age']#.map(encode)\n"
   ]
  },
  {
   "cell_type": "code",
   "execution_count": 107,
   "metadata": {},
   "outputs": [
    {
     "name": "stdout",
     "output_type": "stream",
     "text": [
      "['male' 'male' 'male' ... 'male' 'male' 'male']\n",
      "{'female': 2261, 'male': 2795}\n"
     ]
    }
   ],
   "source": [
    "# RANDOM FOREST\n",
    "\n",
    "# from joblib import Parallel, delayed\n",
    "import joblib\n",
    "import numpy as np\n",
    "\n",
    "randomforest_from_joblib = joblib.load('models/random_forest.pkl')\n",
    "# Use the loaded model to make predictions\n",
    "result = randomforest_from_joblib.predict(X_test)\n",
    "acc = randomforest_from_joblib.score(X_test, y_test)\n",
    "print(result)\n",
    "\n",
    "unique, counts = np.unique(result, return_counts=True)\n",
    "print(dict(zip(unique, counts)))"
   ]
  },
  {
   "cell_type": "code",
   "execution_count": 47,
   "metadata": {},
   "outputs": [
    {
     "name": "stdout",
     "output_type": "stream",
     "text": [
      "Loaded model from disk\n"
     ]
    }
   ],
   "source": [
    "# NEURAL NETWORKS\n",
    "\n",
    "from keras.models import model_from_json\n",
    "\n",
    "# load json and create model\n",
    "json_file = open('models/neural_network.json', 'r')\n",
    "loaded_model_json = json_file.read()\n",
    "json_file.close()\n",
    "loaded_model = model_from_json(loaded_model_json)\n",
    "# load weights into new model\n",
    "loaded_model.load_weights(\"models/neural_network.h5\")\n",
    "print(\"Loaded model from disk\")"
   ]
  },
  {
   "cell_type": "code",
   "execution_count": 48,
   "metadata": {},
   "outputs": [
    {
     "name": "stdout",
     "output_type": "stream",
     "text": [
      "accuracy: 60.87%\n"
     ]
    }
   ],
   "source": [
    "# NEURAL NETWORKS\n",
    "\n",
    "# evaluate loaded model on test data\n",
    "loaded_model.compile(loss='binary_crossentropy', optimizer='rmsprop', metrics=['accuracy'])\n",
    "score = loaded_model.evaluate(X_test, y_test, verbose=0)\n",
    "print(\"%s: %.2f%%\" % (loaded_model.metrics_names[1], score[1]*100))"
   ]
  },
  {
   "cell_type": "code",
   "execution_count": 49,
   "metadata": {},
   "outputs": [
    {
     "name": "stdout",
     "output_type": "stream",
     "text": [
      "Train: 0.949, Test: 0.609\n"
     ]
    }
   ],
   "source": [
    "# NEURAL NETWORKS\n",
    "\n",
    "# evaluate the model\n",
    "_, train_acc = loaded_model.evaluate(X_train, y_train, verbose=0)\n",
    "_, test_acc = loaded_model.evaluate(X_test, y_test, verbose=0)\n",
    "print('Train: %.3f, Test: %.3f' % (train_acc, test_acc))\n"
   ]
  }
 ],
 "metadata": {
  "kernelspec": {
   "display_name": "Python 3",
   "language": "python",
   "name": "python3"
  },
  "language_info": {
   "codemirror_mode": {
    "name": "ipython",
    "version": 3
   },
   "file_extension": ".py",
   "mimetype": "text/x-python",
   "name": "python",
   "nbconvert_exporter": "python",
   "pygments_lexer": "ipython3",
   "version": "3.8.0 (tags/v3.8.0:fa919fd, Oct 14 2019, 19:37:50) [MSC v.1916 64 bit (AMD64)]"
  },
  "orig_nbformat": 4,
  "vscode": {
   "interpreter": {
    "hash": "8f7966f791852dc8d3efa84237a2aea877d88803fed36f0ab10ea74530d7a649"
   }
  }
 },
 "nbformat": 4,
 "nbformat_minor": 2
}
