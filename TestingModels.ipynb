{
 "cells": [
  {
   "cell_type": "code",
   "execution_count": 3,
   "metadata": {},
   "outputs": [],
   "source": [
    "import pandas as pd\n",
    "from sklearn.model_selection import train_test_split\n",
    "from sklearn import metrics\n",
    "from sklearn import preprocessing\n",
    "from xgboost import XGBClassifier\n",
    "import imblearn\n",
    "from imblearn.over_sampling import SMOTE\n",
    "from collections import Counter\n",
    "import joblib\n",
    "import numpy as np\n",
    "\n",
    "# data = pd.read_csv(\"csv/walk.csv\",index_col=False)\n",
    "# encode = {'<40': 0, '>40': 1}\n",
    "# encode = {'male': 0, 'female': 1}\n",
    "# X = data.loc[data['id'].isin([1,2])]\n",
    "# X_train = X.drop(['id','gender','age'],axis=1)\n",
    "\n",
    "# X_train = preprocessing.scale(X_train)\n",
    "# y_train = X['age']#.map(encode)\n",
    "\n",
    "\n",
    "# X2 = data.loc[data['id'].isin([10])]\n",
    "# X_test = X2.drop(['id','gender','age'],axis=1)\n",
    "\n",
    "# X_test = preprocessing.scale(X_test)\n",
    "# y_test = X2['gender'].map(encode)\n",
    "\n",
    "data = pd.read_csv(\"csv/walk.csv\",index_col=False)\n",
    "# X = data[[\"r_hip_ang\", \"r_knee_ang\", \"r_ankle_ang\", \"r_elbow_ang\", \"r_shoulder_ang\",]]\n",
    "#         # \"r_hip_vel\", \"r_knee_vel\", \"r_ankle_vel\", \"r_elbow_vel\", \"r_shoulder_vel\",\n",
    "#         # \"r_hip_accel\", \"r_knee_accel\", \"r_ankle_accel\", \"r_elbow_accel\", \"r_shoulder_accel\"]]\n",
    "X = data.drop(['gender', \"id\",'age'], axis=1)\n",
    "\n",
    "# encode = {'male': 0, 'female': 1}\n",
    "encode = {'<40': 0, '>40': 1}\n",
    "y = data['age'].map(encode)\n",
    "X  = preprocessing.scale(X)\n",
    "\n",
    "# oversample = SMOTE()\n",
    "# X, y = oversample.fit_resample(X, y)\n",
    "\n",
    "X_train, X_test, y_train, y_test = train_test_split(X, y, test_size = 0.20)\n"
   ]
  },
  {
   "cell_type": "code",
   "execution_count": 10,
   "metadata": {},
   "outputs": [
    {
     "name": "stdout",
     "output_type": "stream",
     "text": [
      "['male' 'male' 'male' ... 'female' 'female' 'female']\n",
      "0.5371277299801456\n",
      "{'female': 6994, 'male': 8116}\n"
     ]
    }
   ],
   "source": [
    "# RANDOM FOREST\n",
    "\n",
    "# from joblib import Parallel, delayed\n",
    "import joblib\n",
    "import numpy as np\n",
    "\n",
    "randomforest_from_joblib = joblib.load('models/random_forest.pkl')\n",
    "# Use the loaded model to make predictions\n",
    "result = randomforest_from_joblib.predict(X_test)\n",
    "acc = randomforest_from_joblib.score(X_test, y_test)\n",
    "print(result)\n",
    "print(acc)\n",
    "unique, counts = np.unique(result, return_counts=True)\n",
    "print(dict(zip(unique, counts)))"
   ]
  },
  {
   "cell_type": "code",
   "execution_count": 47,
   "metadata": {},
   "outputs": [
    {
     "name": "stdout",
     "output_type": "stream",
     "text": [
      "Loaded model from disk\n"
     ]
    }
   ],
   "source": [
    "# NEURAL NETWORKS\n",
    "\n",
    "from keras.models import model_from_json\n",
    "\n",
    "# load json and create model\n",
    "json_file = open('models/neural_network.json', 'r')\n",
    "loaded_model_json = json_file.read()\n",
    "json_file.close()\n",
    "loaded_model = model_from_json(loaded_model_json)\n",
    "# load weights into new model\n",
    "loaded_model.load_weights(\"models/neural_network.h5\")\n",
    "print(\"Loaded model from disk\")"
   ]
  },
  {
   "cell_type": "code",
   "execution_count": 48,
   "metadata": {},
   "outputs": [
    {
     "name": "stdout",
     "output_type": "stream",
     "text": [
      "accuracy: 60.87%\n"
     ]
    }
   ],
   "source": [
    "# NEURAL NETWORKS\n",
    "\n",
    "# evaluate loaded model on test data\n",
    "loaded_model.compile(loss='binary_crossentropy', optimizer='rmsprop', metrics=['accuracy'])\n",
    "score = loaded_model.evaluate(X_test, y_test, verbose=0)\n",
    "print(\"%s: %.2f%%\" % (loaded_model.metrics_names[1], score[1]*100))"
   ]
  },
  {
   "cell_type": "code",
   "execution_count": 49,
   "metadata": {},
   "outputs": [
    {
     "name": "stdout",
     "output_type": "stream",
     "text": [
      "Train: 0.949, Test: 0.609\n"
     ]
    }
   ],
   "source": [
    "# NEURAL NETWORKS\n",
    "\n",
    "# evaluate the model\n",
    "_, train_acc = loaded_model.evaluate(X_train, y_train, verbose=0)\n",
    "_, test_acc = loaded_model.evaluate(X_test, y_test, verbose=0)\n",
    "print('Train: %.3f, Test: %.3f' % (train_acc, test_acc))\n"
   ]
  },
  {
   "cell_type": "code",
   "execution_count": 31,
   "metadata": {},
   "outputs": [
    {
     "name": "stdout",
     "output_type": "stream",
     "text": [
      "[0 0 0 ... 1 1 0]\n",
      "0.5407925407925408\n",
      "{0: 1182, 1: 1392}\n"
     ]
    }
   ],
   "source": [
    "#XGBOOST\n",
    "\n",
    "test = pd.read_csv(\"csvage/4_Hannywalk.csv\")\n",
    "test_X = test.drop(['gender','age','id'], axis=1)\n",
    "test_X  = preprocessing.scale(test_X)\n",
    "test_y = test['age']\n",
    "test_y = test['age'].map(encode)\n",
    "xgboost_from_joblib = joblib.load('models/xgboost_age_traintest.pkl')\n",
    "# Use the loaded model to make predictions\n",
    "result = xgboost_from_joblib.predict(test_X)\n",
    "acc = xgboost_from_joblib.score(test_X, test_y)\n",
    "print(result)\n",
    "print(acc)\n",
    "unique, counts = np.unique(result, return_counts=True)\n",
    "\n",
    "print(dict(zip(unique, counts)))"
   ]
  }
 ],
 "metadata": {
  "kernelspec": {
   "display_name": "Python 3",
   "language": "python",
   "name": "python3"
  },
  "language_info": {
   "codemirror_mode": {
    "name": "ipython",
    "version": 3
   },
   "file_extension": ".py",
   "mimetype": "text/x-python",
   "name": "python",
   "nbconvert_exporter": "python",
   "pygments_lexer": "ipython3",
   "version": "3.9.2 (tags/v3.9.2:1a79785, Feb 19 2021, 13:44:55) [MSC v.1928 64 bit (AMD64)]"
  },
  "orig_nbformat": 4,
  "vscode": {
   "interpreter": {
    "hash": "81794d4967e6c3204c66dcd87b604927b115b27c00565d3d43f05ba2f3a2cb0d"
   }
  }
 },
 "nbformat": 4,
 "nbformat_minor": 2
}
