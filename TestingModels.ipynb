{
 "cells": [
  {
   "cell_type": "code",
   "execution_count": 7,
   "metadata": {},
   "outputs": [],
   "source": [
    "import pandas as pd\n",
    "from sklearn.model_selection import train_test_split\n",
    "from sklearn import metrics\n",
    "from sklearn import preprocessing\n",
    "from xgboost import XGBClassifier\n",
    "import imblearn\n",
    "from imblearn.over_sampling import SMOTE\n",
    "from collections import Counter\n",
    "import joblib\n",
    "import numpy as np\n",
    "import os"
   ]
  },
  {
   "cell_type": "code",
   "execution_count": 2,
   "metadata": {},
   "outputs": [
    {
     "ename": "ModuleNotFoundError",
     "evalue": "No module named 'imblearn'",
     "output_type": "error",
     "traceback": [
      "\u001b[1;31m---------------------------------------------------------------------------\u001b[0m",
      "\u001b[1;31mModuleNotFoundError\u001b[0m                       Traceback (most recent call last)",
      "\u001b[1;32m<ipython-input-2-5a92c7227f64>\u001b[0m in \u001b[0;36m<module>\u001b[1;34m\u001b[0m\n\u001b[0;32m      4\u001b[0m \u001b[1;32mfrom\u001b[0m \u001b[0msklearn\u001b[0m \u001b[1;32mimport\u001b[0m \u001b[0mpreprocessing\u001b[0m\u001b[1;33m\u001b[0m\u001b[1;33m\u001b[0m\u001b[0m\n\u001b[0;32m      5\u001b[0m \u001b[1;32mfrom\u001b[0m \u001b[0mxgboost\u001b[0m \u001b[1;32mimport\u001b[0m \u001b[0mXGBClassifier\u001b[0m\u001b[1;33m\u001b[0m\u001b[1;33m\u001b[0m\u001b[0m\n\u001b[1;32m----> 6\u001b[1;33m \u001b[1;32mimport\u001b[0m \u001b[0mimblearn\u001b[0m\u001b[1;33m\u001b[0m\u001b[1;33m\u001b[0m\u001b[0m\n\u001b[0m\u001b[0;32m      7\u001b[0m \u001b[1;32mfrom\u001b[0m \u001b[0mimblearn\u001b[0m\u001b[1;33m.\u001b[0m\u001b[0mover_sampling\u001b[0m \u001b[1;32mimport\u001b[0m \u001b[0mSMOTE\u001b[0m\u001b[1;33m\u001b[0m\u001b[1;33m\u001b[0m\u001b[0m\n\u001b[0;32m      8\u001b[0m \u001b[1;32mfrom\u001b[0m \u001b[0mcollections\u001b[0m \u001b[1;32mimport\u001b[0m \u001b[0mCounter\u001b[0m\u001b[1;33m\u001b[0m\u001b[1;33m\u001b[0m\u001b[0m\n",
      "\u001b[1;31mModuleNotFoundError\u001b[0m: No module named 'imblearn'"
     ]
    }
   ],
   "source": [
    "\n",
    "\n",
    "# data = pd.read_csv(\"csv/walk.csv\",index_col=False)\n",
    "# encode = {'<40': 0, '>40': 1}\n",
    "# encode = {'male': 0, 'female': 1}\n",
    "# X = data.loc[data['id'].isin([1,2])]\n",
    "# X_train = X.drop(['id','gender','age'],axis=1)\n",
    "\n",
    "# X_train = preprocessing.scale(X_train)\n",
    "# y_train = X['age']#.map(encode)\n",
    "\n",
    "\n",
    "# X2 = data.loc[data['id'].isin([10])]\n",
    "# X_test = X2.drop(['id','gender','age'],axis=1)\n",
    "\n",
    "# X_test = preprocessing.scale(X_test)\n",
    "# y_test = X2['gender'].map(encode)\n",
    "\n",
    "data = pd.read_csv(\"csv/walk.csv\",index_col=False)\n",
    "# X = data[[\"r_hip_ang\", \"r_knee_ang\", \"r_ankle_ang\", \"r_elbow_ang\", \"r_shoulder_ang\",]]\n",
    "#         # \"r_hip_vel\", \"r_knee_vel\", \"r_ankle_vel\", \"r_elbow_vel\", \"r_shoulder_vel\",\n",
    "#         # \"r_hip_accel\", \"r_knee_accel\", \"r_ankle_accel\", \"r_elbow_accel\", \"r_shoulder_accel\"]]\n",
    "X = data.drop(['gender', \"id\",'age'], axis=1)\n",
    "\n",
    "# encode = {'male': 0, 'female': 1}\n",
    "encode = {'<40': 0, '>40': 1}\n",
    "y = data['age'].map(encode)\n",
    "X  = preprocessing.scale(X)\n",
    "\n",
    "# oversample = SMOTE()\n",
    "# X, y = oversample.fit_resample(X, y)\n",
    "\n",
    "X_train, X_test, y_train, y_test = train_test_split(X, y, test_size = 0.20)\n"
   ]
  },
  {
   "cell_type": "code",
   "execution_count": 10,
   "metadata": {},
   "outputs": [
    {
     "name": "stdout",
     "output_type": "stream",
     "text": [
      "['male' 'male' 'male' ... 'female' 'female' 'female']\n",
      "0.5371277299801456\n",
      "{'female': 6994, 'male': 8116}\n"
     ]
    }
   ],
   "source": [
    "# RANDOM FOREST\n",
    "\n",
    "# from joblib import Parallel, delayed\n",
    "import joblib\n",
    "import numpy as np\n",
    "\n",
    "randomforest_from_joblib = joblib.load('models/random_forest.pkl')\n",
    "# Use the loaded model to make predictions\n",
    "result = randomforest_from_joblib.predict(X_test)\n",
    "acc = randomforest_from_joblib.score(X_test, y_test)\n",
    "print(result)\n",
    "print(acc)\n",
    "unique, counts = np.unique(result, return_counts=True)\n",
    "print(dict(zip(unique, counts)))"
   ]
  },
  {
   "cell_type": "code",
   "execution_count": 47,
   "metadata": {},
   "outputs": [
    {
     "name": "stdout",
     "output_type": "stream",
     "text": [
      "Loaded model from disk\n"
     ]
    }
   ],
   "source": [
    "# NEURAL NETWORKS\n",
    "\n",
    "from keras.models import model_from_json\n",
    "\n",
    "# load json and create model\n",
    "json_file = open('models/neural_network.json', 'r')\n",
    "loaded_model_json = json_file.read()\n",
    "json_file.close()\n",
    "loaded_model = model_from_json(loaded_model_json)\n",
    "# load weights into new model\n",
    "loaded_model.load_weights(\"models/neural_network.h5\")\n",
    "print(\"Loaded model from disk\")"
   ]
  },
  {
   "cell_type": "code",
   "execution_count": 48,
   "metadata": {},
   "outputs": [
    {
     "name": "stdout",
     "output_type": "stream",
     "text": [
      "accuracy: 60.87%\n"
     ]
    }
   ],
   "source": [
    "# NEURAL NETWORKS\n",
    "\n",
    "# evaluate loaded model on test data\n",
    "loaded_model.compile(loss='binary_crossentropy', optimizer='rmsprop', metrics=['accuracy'])\n",
    "score = loaded_model.evaluate(X_test, y_test, verbose=0)\n",
    "print(\"%s: %.2f%%\" % (loaded_model.metrics_names[1], score[1]*100))"
   ]
  },
  {
   "cell_type": "code",
   "execution_count": 49,
   "metadata": {},
   "outputs": [
    {
     "name": "stdout",
     "output_type": "stream",
     "text": [
      "Train: 0.949, Test: 0.609\n"
     ]
    }
   ],
   "source": [
    "# NEURAL NETWORKS\n",
    "\n",
    "# evaluate the model\n",
    "_, train_acc = loaded_model.evaluate(X_train, y_train, verbose=0)\n",
    "_, test_acc = loaded_model.evaluate(X_test, y_test, verbose=0)\n",
    "print('Train: %.3f, Test: %.3f' % (train_acc, test_acc))\n"
   ]
  },
  {
   "cell_type": "code",
   "execution_count": 34,
   "metadata": {},
   "outputs": [
    {
     "name": "stdout",
     "output_type": "stream",
     "text": [
      "{'<40': 88, '>40': 12}\n"
     ]
    }
   ],
   "source": [
    "#RANDOM FOREST AGE\n",
    "\n",
    "youngCount = 0\n",
    "oldCount = 0\n",
    "\n",
    "directory = os.fsencode(\"temp/\")\n",
    "  \n",
    "for file in os.listdir(directory):\n",
    "    \n",
    "    filename = os.fsdecode(file)\n",
    "    test = pd.read_csv(\"temp/\" + filename)\n",
    "\n",
    "    test_X = test.drop(['age','gender'], axis=1)\n",
    "    test_X  = preprocessing.scale(test_X)\n",
    "    test_y = test['age']\n",
    "\n",
    "    xgboost_from_joblib = joblib.load('models/rforest_age_tts_all.pkl')\n",
    "    # Use the loaded model to make predictions\n",
    "\n",
    "    result = xgboost_from_joblib.predict(test_X)\n",
    "    # print(result)\n",
    "\n",
    "    acc = xgboost_from_joblib.score(test_X, test_y)\n",
    "    # print(acc)\n",
    "\n",
    "    unique, counts = np.unique(result, return_counts=True)\n",
    "    result = dict(zip(unique, counts))\n",
    "    prediction = max(result, key=result.get)\n",
    "    # print(result)\n",
    "    # print(prediction)\n",
    "    \n",
    "    if prediction == '<40':\n",
    "        youngCount += 1\n",
    "    elif prediction == '>40':\n",
    "        oldCount += 1\n",
    "    else:\n",
    "        print(\"error\")\n",
    "\n",
    "finalCount = {\"<40\": youngCount, \">40\": oldCount}\n",
    "print(finalCount)"
   ]
  },
  {
   "cell_type": "code",
   "execution_count": 36,
   "metadata": {},
   "outputs": [
    {
     "name": "stdout",
     "output_type": "stream",
     "text": [
      "{'male': 91, 'female': 9}\n"
     ]
    }
   ],
   "source": [
    "#RANDOM FOREST GENDER\n",
    "\n",
    "maleCount = 0\n",
    "femaleCount = 0\n",
    "\n",
    "directory = os.fsencode(\"temp/\")\n",
    "  \n",
    "for file in os.listdir(directory):\n",
    "    \n",
    "    filename = os.fsdecode(file)\n",
    "    test = pd.read_csv(\"temp/\" + filename)\n",
    "\n",
    "    test_X = test.drop(['age','gender'], axis=1)\n",
    "    test_X  = preprocessing.scale(test_X)\n",
    "    test_y = test['gender']\n",
    "\n",
    "    xgboost_from_joblib = joblib.load('models/rforest_gender_tts_all.pkl')\n",
    "    # Use the loaded model to make predictions\n",
    "\n",
    "    result = xgboost_from_joblib.predict(test_X)\n",
    "    # print(result)\n",
    "\n",
    "    acc = xgboost_from_joblib.score(test_X, test_y)\n",
    "    # print(acc)\n",
    "\n",
    "    unique, counts = np.unique(result, return_counts=True)\n",
    "    result = dict(zip(unique, counts))\n",
    "    prediction = max(result, key=result.get)\n",
    "    # print(result)\n",
    "    # print(prediction)\n",
    "    \n",
    "    if prediction == 'male':\n",
    "        maleCount += 1\n",
    "    elif prediction == 'female':\n",
    "        femaleCount += 1\n",
    "    else:\n",
    "        print(\"error\")\n",
    "\n",
    "finalCount = {\"male\": maleCount, \"female\": femaleCount}\n",
    "print(finalCount)"
   ]
  },
  {
   "cell_type": "code",
   "execution_count": 33,
   "metadata": {},
   "outputs": [
    {
     "name": "stdout",
     "output_type": "stream",
     "text": [
      "{'<40': 4, '>40': 96}\n"
     ]
    }
   ],
   "source": [
    "#XGBOOST AGE\n",
    "\n",
    "youngCount = 0\n",
    "oldCount = 0\n",
    "\n",
    "directory = os.fsencode(\"temp/\")\n",
    "  \n",
    "for file in os.listdir(directory):\n",
    "    encodeAge = {'<40': 0, '>40': 1}\n",
    "    encodeGender = {'male': 0, 'female': 1}\n",
    "\n",
    "    filename = os.fsdecode(file)\n",
    "    test = pd.read_csv(\"temp/\" + filename)\n",
    "\n",
    "    test_X = test.drop(['age','gender'], axis=1)\n",
    "    # test_X['gender'] = test_X['gender'].map(encodeGender)\n",
    "    test_X  = preprocessing.scale(test_X)\n",
    "    test_y = test['age'].map(encodeAge)\n",
    "\n",
    "    xgboost_from_joblib = joblib.load('models/xgboost_age_notts_234579_withgender.pkl')\n",
    "    # Use the loaded model to make predictions\n",
    "\n",
    "    result = xgboost_from_joblib.predict(test_X)\n",
    "    # print(result)\n",
    "\n",
    "    acc = xgboost_from_joblib.score(test_X, test_y)\n",
    "    # print(acc)\n",
    "\n",
    "    unique, counts = np.unique(result, return_counts=True)\n",
    "    result = dict(zip(unique, counts))\n",
    "    prediction = max(result, key=result.get)\n",
    "    # print(result)\n",
    "    # print(prediction)\n",
    "    \n",
    "    if prediction == 0:\n",
    "        youngCount += 1\n",
    "    elif prediction == 1:\n",
    "        oldCount += 1\n",
    "    else:\n",
    "        print(\"error\")\n",
    "\n",
    "finalCount = {\"<40\": youngCount, \">40\": oldCount}\n",
    "print(finalCount)"
   ]
  },
  {
   "cell_type": "code",
   "execution_count": 41,
   "metadata": {},
   "outputs": [
    {
     "name": "stdout",
     "output_type": "stream",
     "text": [
      "{'male': 98, 'female': 2}\n"
     ]
    }
   ],
   "source": [
    "#XGBOOST GENDER\n",
    "\n",
    "maleCount = 0\n",
    "femaleCount = 0\n",
    "\n",
    "directory = os.fsencode(\"temp/\")\n",
    "  \n",
    "for file in os.listdir(directory):\n",
    "    encodeGender = {'male': 0, 'female': 1}\n",
    "    \n",
    "    filename = os.fsdecode(file)\n",
    "    test = pd.read_csv(\"temp/\" + filename)\n",
    "\n",
    "    test_X = test.drop(['age','gender'], axis=1)\n",
    "    test_X  = preprocessing.scale(test_X)\n",
    "    test_y = test['gender'].map(encodeGender)\n",
    "\n",
    "    xgboost_from_joblib = joblib.load('models/xgboost_gender_tts_all.pkl')\n",
    "    # Use the loaded model to make predictions\n",
    "\n",
    "    result = xgboost_from_joblib.predict(test_X)\n",
    "    # print(result)\n",
    "\n",
    "    acc = xgboost_from_joblib.score(test_X, test_y)\n",
    "    # print(acc)\n",
    "\n",
    "    unique, counts = np.unique(result, return_counts=True)\n",
    "    result = dict(zip(unique, counts))\n",
    "    prediction = max(result, key=result.get)\n",
    "    # print(result)\n",
    "    # print(prediction)\n",
    "    \n",
    "    if prediction == 0:\n",
    "        maleCount += 1\n",
    "    elif prediction == 1:\n",
    "        femaleCount += 1\n",
    "    else:\n",
    "        print(\"error\")\n",
    "\n",
    "finalCount = {\"male\": maleCount, \"female\": femaleCount}\n",
    "print(finalCount)"
   ]
  }
 ],
 "metadata": {
  "kernelspec": {
   "display_name": "Python 3",
   "language": "python",
   "name": "python3"
  },
  "language_info": {
   "codemirror_mode": {
    "name": "ipython",
    "version": 3
   },
   "file_extension": ".py",
   "mimetype": "text/x-python",
   "name": "python",
   "nbconvert_exporter": "python",
   "pygments_lexer": "ipython3",
   "version": "3.8.0 (tags/v3.8.0:fa919fd, Oct 14 2019, 19:37:50) [MSC v.1916 64 bit (AMD64)]"
  },
  "orig_nbformat": 4,
  "vscode": {
   "interpreter": {
    "hash": "8f7966f791852dc8d3efa84237a2aea877d88803fed36f0ab10ea74530d7a649"
   }
  }
 },
 "nbformat": 4,
 "nbformat_minor": 2
}
