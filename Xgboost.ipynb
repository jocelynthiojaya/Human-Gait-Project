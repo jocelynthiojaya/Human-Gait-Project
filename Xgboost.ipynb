{
 "cells": [
  {
   "cell_type": "code",
   "execution_count": null,
   "metadata": {},
   "outputs": [],
   "source": [
    "import pandas as pd\n",
    "from sklearn.model_selection import train_test_split\n",
    "from sklearn import metrics\n",
    "from sklearn import preprocessing\n",
    "from xgboost import XGBClassifier"
   ]
  },
  {
   "cell_type": "code",
   "execution_count": 2,
   "metadata": {},
   "outputs": [],
   "source": [
    "# data = pd.read_csv(\"csv/walk.csv\",index_col=False)\n",
    "# X = data[[\"r_hip_ang\", \"r_knee_ang\", \"r_ankle_ang\", \"r_elbow_ang\", \"r_shoulder_ang\",]]\n",
    "#         # \"r_hip_vel\", \"r_knee_vel\", \"r_ankle_vel\", \"r_elbow_vel\", \"r_shoulder_vel\",\n",
    "#         # \"r_hip_accel\", \"r_knee_accel\", \"r_ankle_accel\", \"r_elbow_accel\", \"r_shoulder_accel\"]]\n",
    "# # X = data.drop(['gender', \"id\"], axis=1)\n",
    "\n",
    "# encode = {'male': 0, 'female': 1}\n",
    "# y = data['gender'].map(encode)\n",
    "# X  = preprocessing.scale(X)\n",
    "\n",
    "\n",
    "# X_train, X_test, y_train, y_test = train_test_split(X, y, test_size = 0.20)"
   ]
  },
  {
   "cell_type": "code",
   "execution_count": 71,
   "metadata": {},
   "outputs": [],
   "source": [
    "data = pd.read_csv(\"csv/walk.csv\",index_col=False)\n",
    "encode = {'<40': 0, '>40': 1}\n",
    "# encode = {'male': 0, 'female': 1}\n",
    "\n",
    "X = data.loc[data['id'].isin([2,3,4,5,7,9])]\n",
    "# X_train = X [[\"r_hip_ang\", \"r_knee_ang\", \"r_ankle_ang\", \"r_elbow_ang\", \"r_shoulder_ang\"]]\n",
    "#         \"r_hip_vel\", \"r_knee_vel\", \"r_ankle_vel\", \"r_elbow_vel\", \"r_shoulder_vel\",\n",
    "#         \"r_hip_accel\", \"r_knee_accel\", \"r_ankle_accel\", \"r_elbow_accel\", \"r_shoulder_accel\"]]\n",
    "X_train = X.drop(['id','gender','age'],axis=1) #,'r_shoulder_ang','r_elbow_ang','r_knee_vel_3','r_elbow_vel_3','r_shoulder_vel_3'],axis=1)\n",
    "X_train = preprocessing.scale(X_train)\n",
    "y_train = X['age'].map(encode)\n",
    "\n",
    "X2 = data.loc[data['id'].isin([1,10])] \n",
    "# X_test = X2 [[\"r_hip_ang\", \"r_knee_ang\", \"r_ankle_ang\", \"r_elbow_ang\", \"r_shoulder_ang\"]]\n",
    "        # \"r_hip_vel\", \"r_knee_vel\", \"r_ankle_vel\", \"r_elbow_vel\", \"r_shoulder_vel\",\n",
    "        # \"r_hip_accel\", \"r_knee_accel\", \"r_ankle_accel\", \"r_elbow_accel\", \"r_shoulder_accel\"]]\n",
    "X_test = X2.drop(['id','gender','age'],axis=1) #,'r_shoulder_ang','r_elbow_ang','r_knee_vel_3','r_elbow_vel_3','r_shoulder_vel_3'],axis=1)\n",
    "X_test = preprocessing.scale(X_test)\n",
    "y_test = X2['age'].map(encode)"
   ]
  },
  {
   "cell_type": "code",
   "execution_count": 169,
   "metadata": {},
   "outputs": [],
   "source": [
    "clf = XGBClassifier(\n",
    "#BEST for Train: 2,3,4,5,7,9 and Test 1,10 Age\n",
    " reg_lambda = 0.5,\n",
    " reg_alpha = 0.5,\n",
    " n_estimators = 200,\n",
    " learning_rate = 0.1,\n",
    " gamma = 0,\n",
    " booster = 'gbtree',\n",
    " base_score = 0.9,\n",
    " min_child_weight = 1,\n",
    " max_depth = 6,\n",
    " subsample = 0.3,\n",
    " colsample_bytree = 0.4)\n",
    " #BEST for Train 1 2 5, Test 3 4 Gender\n",
    "#  clf = XGBClassifier(reg_lambda = 0.5, \n",
    "#  reg_alpha = 1,\n",
    "#  n_estimators = 200,\n",
    "#  learning_rate = 0.1,\n",
    "#  gamma = 0,\n",
    "#  booster = 'gbtree',\n",
    "#  base_score = 0.5,\n",
    "#  min_child_weight = 1,\n",
    "#  max_depth = 6,\n",
    "#  subsample = 0.5,\n",
    "#  colsample_bytree = 0.4)\n",
    "clf.fit(X_train, y_train)\n",
    "\n",
    "y_pred = clf.predict(X_test)\n"
   ]
  },
  {
   "cell_type": "code",
   "execution_count": 170,
   "metadata": {},
   "outputs": [
    {
     "name": "stdout",
     "output_type": "stream",
     "text": [
      "Accuracy: 0.7673436905297395\n",
      "[[11003  2788]\n",
      " [ 3936 11174]]\n",
      "              precision    recall  f1-score   support\n",
      "\n",
      "           0       0.74      0.80      0.77     13791\n",
      "           1       0.80      0.74      0.77     15110\n",
      "\n",
      "    accuracy                           0.77     28901\n",
      "   macro avg       0.77      0.77      0.77     28901\n",
      "weighted avg       0.77      0.77      0.77     28901\n",
      "\n"
     ]
    }
   ],
   "source": [
    "print(\"Accuracy:\",metrics.accuracy_score(y_test, y_pred))\n",
    "\n",
    "from sklearn.metrics import classification_report, confusion_matrix\n",
    "print(confusion_matrix(y_test,y_pred))\n",
    "print(classification_report(y_test,y_pred))"
   ]
  },
  {
   "cell_type": "code",
   "execution_count": 94,
   "metadata": {},
   "outputs": [],
   "source": [
    "from sklearn.model_selection import GridSearchCV\n",
    "from sklearn.model_selection import RandomizedSearchCV\n",
    "\n",
    "param = {\n",
    "    'n_estimators': [100, 200, 500],\n",
    "    'learning_rate': [0.01,0.05,0.1],\n",
    "    'booster': ['gbtree', 'gblinear'],\n",
    "    'gamma': [0, 0.5, 1],\n",
    "    'reg_alpha': [0, 0.5, 1],\n",
    "    'reg_lambda': [0.5, 1, 5],\n",
    "    'base_score': [0.2, 0.5, 0.9],\n",
    "    'max_depth': range(1,10,2),\n",
    "    'min_child_weight': range(1,10,2), \n",
    "    'subsample' : [i/10.0 for i in range(5,10)],\n",
    "    'colsample_bytree' :[i/10.0 for i in range(5,10)]\n",
    "}"
   ]
  },
  {
   "cell_type": "code",
   "execution_count": 103,
   "metadata": {},
   "outputs": [
    {
     "name": "stdout",
     "output_type": "stream",
     "text": [
      "Fitting 5 folds for each of 10 candidates, totalling 50 fits\n"
     ]
    },
    {
     "data": {
      "text/plain": [
       "0.9511637977956019"
      ]
     },
     "execution_count": 103,
     "metadata": {},
     "output_type": "execute_result"
    }
   ],
   "source": [
    "rnd_search = RandomizedSearchCV(XGBClassifier(), param_distributions=param,n_jobs=-1, verbose = 10, n_iter =10)\n",
    "rnd_search.fit(X_train,y_train)\n",
    "rnd_search.best_score_"
   ]
  },
  {
   "cell_type": "code",
   "execution_count": 104,
   "metadata": {},
   "outputs": [
    {
     "data": {
      "text/plain": [
       "{'subsample': 0.7,\n",
       " 'reg_lambda': 5,\n",
       " 'reg_alpha': 0.5,\n",
       " 'n_estimators': 200,\n",
       " 'min_child_weight': 9,\n",
       " 'max_depth': 9,\n",
       " 'learning_rate': 0.1,\n",
       " 'gamma': 0.5,\n",
       " 'colsample_bytree': 0.5,\n",
       " 'booster': 'gbtree',\n",
       " 'base_score': 0.2}"
      ]
     },
     "execution_count": 104,
     "metadata": {},
     "output_type": "execute_result"
    }
   ],
   "source": [
    "rnd_search.best_params_"
   ]
  }
 ],
 "metadata": {
  "kernelspec": {
   "display_name": "Python 3.8.0 64-bit",
   "language": "python",
   "name": "python3"
  },
  "language_info": {
   "codemirror_mode": {
    "name": "ipython",
    "version": 3
   },
   "file_extension": ".py",
   "mimetype": "text/x-python",
   "name": "python",
   "nbconvert_exporter": "python",
   "pygments_lexer": "ipython3",
   "version": "3.8.0"
  },
  "orig_nbformat": 4,
  "vscode": {
   "interpreter": {
    "hash": "8f7966f791852dc8d3efa84237a2aea877d88803fed36f0ab10ea74530d7a649"
   }
  }
 },
 "nbformat": 4,
 "nbformat_minor": 2
}
