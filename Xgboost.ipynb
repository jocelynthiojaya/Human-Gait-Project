{
 "cells": [
  {
   "cell_type": "code",
   "execution_count": 1,
   "metadata": {},
   "outputs": [],
   "source": [
    "import pandas as pd\n",
    "from sklearn.model_selection import train_test_split\n",
    "from sklearn import metrics\n",
    "from sklearn import preprocessing\n",
    "from xgboost import XGBClassifier"
   ]
  },
  {
   "cell_type": "code",
   "execution_count": 3,
   "metadata": {},
   "outputs": [],
   "source": [
    "data = pd.read_csv(\"csv/walk.csv\",index_col=False)\n",
    "data = data.loc[data['id'].isin([1,2,5])]\n",
    "# X = data[[\"r_hip_ang\", \"r_knee_ang\", \"r_ankle_ang\", \"r_elbow_ang\", \"r_shoulder_ang\",]]\n",
    "        # \"r_hip_vel\", \"r_knee_vel\", \"r_ankle_vel\", \"r_elbow_vel\", \"r_shoulder_vel\",\n",
    "        # \"r_hip_accel\", \"r_knee_accel\", \"r_ankle_accel\", \"r_elbow_accel\", \"r_shoulder_accel\"]]\n",
    "X = data.drop([\"id\",\"gender\",\"age\"], axis=1)\n",
    "\n",
    "encode = {'male': 0, 'female': 1}\n",
    "# encode = {'<40': 0, '>40': 1}\n",
    "y = data['gender'].map(encode)\n",
    "X  = preprocessing.scale(X)\n",
    "\n",
    "\n",
    "X_train, X_test, y_train, y_test = train_test_split(X, y, test_size = 0.20)"
   ]
  },
  {
   "cell_type": "code",
   "execution_count": 5,
   "metadata": {},
   "outputs": [],
   "source": [
    "data = pd.read_csv(\"csv/walk.csv\",index_col=False)\n",
    "encode = {'<40': 0, '>40': 1}\n",
    "# encode = {'male': 0, 'female': 1}\n",
    "\n",
    "X = data.loc[data['id'].isin([2,3,4,5,6,7])]\n",
    "# X_train = X [[\"r_hip_ang\", \"r_knee_ang\", \"r_ankle_ang\", \"r_elbow_ang\", \"r_shoulder_ang\"]]\n",
    "#         \"r_hip_vel\", \"r_knee_vel\", \"r_ankle_vel\", \"r_elbow_vel\", \"r_shoulder_vel\",\n",
    "#         \"r_hip_accel\", \"r_knee_accel\", \"r_ankle_accel\", \"r_elbow_accel\", \"r_shoulder_accel\"]]\n",
    "X_train = X.drop(['id','gender','age'],axis=1) #,'r_shoulder_ang','r_elbow_ang','r_knee_vel_3','r_elbow_vel_3','r_shoulder_vel_3'],axis=1)\n",
    "X_train = preprocessing.scale(X_train)\n",
    "y_train = X['age'].map(encode)\n",
    "\n",
    "X2 = data.loc[data['id'].isin([1,10])] \n",
    "# X_test = X2 [[\"r_hip_ang\", \"r_knee_ang\", \"r_ankle_ang\", \"r_elbow_ang\", \"r_shoulder_ang\"]]\n",
    "        # \"r_hip_vel\", \"r_knee_vel\", \"r_ankle_vel\", \"r_elbow_vel\", \"r_shoulder_vel\",\n",
    "        # \"r_hip_accel\", \"r_knee_accel\", \"r_ankle_accel\", \"r_elbow_accel\", \"r_shoulder_accel\"]]\n",
    "X_test = X2.drop(['id','gender','age'],axis=1) #,'r_shoulder_ang','r_elbow_ang','r_knee_vel_3','r_elbow_vel_3','r_shoulder_vel_3'],axis=1)\n",
    "X_test = preprocessing.scale(X_test)\n",
    "y_test = X2['age'].map(encode)"
   ]
  },
  {
   "cell_type": "code",
   "execution_count": 27,
   "metadata": {},
   "outputs": [
    {
     "name": "stdout",
     "output_type": "stream",
     "text": [
      "       id  frame   r_hip_ang  r_knee_ang  r_ankle_ang  r_elbow_ang  \\\n",
      "61998   3    128  177.842231  179.809770   113.725480   162.389923   \n",
      "64953   3    106  173.757792  173.483287   103.551390   152.675672   \n",
      "90836   5     99  178.899416  170.546518   105.764316   152.313270   \n",
      "71089   4     98  178.615376  151.998790    91.684684   145.324388   \n",
      "62135   3    110  172.461769  171.396979   116.605236   155.095231   \n",
      "...    ..    ...         ...         ...          ...          ...   \n",
      "44179   2     59  168.448765  146.123302   105.708638   162.290187   \n",
      "72588   4     82  157.933313  127.843246   107.813751   174.087725   \n",
      "73858   4     90  157.833515  140.099626    96.009006   174.570024   \n",
      "64599   3     22  178.313409  168.416650   111.561465   145.009598   \n",
      "62546   3     15  176.096688  169.446557   112.361894   131.709899   \n",
      "\n",
      "       r_shoulder_ang  gender  age  r_hip_vel  ...  r_hip_accel_2  \\\n",
      "61998       10.348820       0    0   0.456691  ...      -0.005687   \n",
      "64953       11.339270       0    0  -0.815487  ...      -0.126100   \n",
      "90836       23.941782       0    1  -0.158979  ...      -0.080708   \n",
      "71089       18.471477       1    1   0.241260  ...      -0.086475   \n",
      "62135        2.602562       0    0   0.096103  ...      -0.279939   \n",
      "...               ...     ...  ...        ...  ...            ...   \n",
      "44179        9.301519       1    0   2.369366  ...      -0.700225   \n",
      "72588        8.146624       1    1  -1.479753  ...      -0.473451   \n",
      "73858        9.321502       1    1  -0.027325  ...      -0.139203   \n",
      "64599       18.958379       0    0   1.071870  ...       6.482438   \n",
      "62546       16.016231       0    0  -4.445490  ...       2.766593   \n",
      "\n",
      "       r_knee_accel_2  r_ankle_accel_2  r_elbow_accel_2  r_shoulder_accel_2  \\\n",
      "61998       -0.002029        -0.050729         0.000000            0.018818   \n",
      "64953       -0.571939        -0.127344         0.015869            0.148534   \n",
      "90836       -0.233682         0.090462        -0.121868            0.309170   \n",
      "71089       -0.395874        -0.336384        -0.520257           -0.138816   \n",
      "62135        0.142007         0.161980         0.032400           -0.092853   \n",
      "...               ...              ...              ...                 ...   \n",
      "44179        2.841207        -2.927566        -0.937422           -1.205451   \n",
      "72588        0.350231         0.452783         0.479611            0.009215   \n",
      "73858        0.510891        -0.160137         0.330513           -0.084552   \n",
      "64599      -10.953914       -20.037168         0.351001            6.004701   \n",
      "62546      -10.904268       -17.606267       -11.874971            4.195975   \n",
      "\n",
      "       r_hip_accel_3  r_knee_accel_3  r_ankle_accel_3  r_elbow_accel_3  \\\n",
      "61998      -0.034719        0.098961         0.046682        -0.151611   \n",
      "64953      -0.342398       -0.444785        -0.397017        -0.081802   \n",
      "90836      -0.138334       -0.607915        -0.530861        -0.107194   \n",
      "71089      -0.283305       -0.355758        -0.055267        -0.715878   \n",
      "62135      -0.186227        0.337581        -0.250068         0.014950   \n",
      "...              ...             ...              ...              ...   \n",
      "44179      -1.120389       -1.130142         3.062131        -1.343775   \n",
      "72588      -0.331802       -1.109234         1.524588         1.518421   \n",
      "73858       0.188319        0.001327         1.315789         0.653573   \n",
      "64599       2.871064        7.429724        -7.420309         2.338436   \n",
      "62546       8.482957       14.698344        -9.779492       -26.723493   \n",
      "\n",
      "       r_shoulder_accel_3  \n",
      "61998           -0.056668  \n",
      "64953           -0.420575  \n",
      "90836            0.510461  \n",
      "71089            0.180179  \n",
      "62135           -0.075418  \n",
      "...                   ...  \n",
      "44179           -2.125034  \n",
      "72588           -0.005240  \n",
      "73858           -0.220917  \n",
      "64599            2.683165  \n",
      "62546            2.891724  \n",
      "\n",
      "[49236 rows x 49 columns]\n"
     ]
    }
   ],
   "source": [
    "# MULTILABEL\n",
    "data = pd.read_csv(\"csv/walk.csv\",index_col=False)\n",
    "data = data.loc[data['id'].isin([2,3,4,5,6,7])]\n",
    "# X = data[[\"r_hip_ang\", \"r_knee_ang\", \"r_ankle_ang\", \"r_elbow_ang\", \"r_shoulder_ang\",]]\n",
    "        # \"r_hip_vel\", \"r_knee_vel\", \"r_ankle_vel\", \"r_elbow_vel\", \"r_shoulder_vel\",\n",
    "        # \"r_hip_accel\", \"r_knee_accel\", \"r_ankle_accel\", \"r_elbow_accel\", \"r_shoulder_accel\"]]\n",
    "# X = data.drop([\"id\",\"gender\",\"age\"], axis=1)\n",
    "\n",
    "# encode = {'male': 0, 'female': 1}\n",
    "encode = {'<40': 0, '>40': 1, 'male': 0, 'female': 1}\n",
    "# y = data['age', 'gender'].map(encode)\n",
    "#X  = preprocessing.scale(X)\n",
    "\n",
    "data.age = data.age.map(encode)\n",
    "data.gender = data.gender.map(encode)\n",
    "\n",
    "train, test = train_test_split(data, test_size = 0.20)\n",
    "\n",
    "\n",
    "X_train = train.drop([\"id\",\"gender\",\"age\"], axis=1)\n",
    "X_train = preprocessing.scale(X_train)\n",
    "X_test = test.drop([\"id\",\"gender\",\"age\"], axis=1)\n",
    "X_test = preprocessing.scale(X_test)\n",
    "\n",
    "# print(train)\n",
    "\n",
    "categories = ['gender', 'age']"
   ]
  },
  {
   "cell_type": "code",
   "execution_count": 139,
   "metadata": {},
   "outputs": [],
   "source": [
    "# # WITH GENDER\n",
    "# data = pd.read_csv(\"csv/walk.csv\",index_col=False)\n",
    "# encodeAge = {'<40': 0, '>40': 1}\n",
    "# encodeGender = {'male': 0, 'female': 1}\n",
    "# encode = {'<40': 0, '>40': 1, 'male': 0, 'female': 1}\n",
    "\n",
    "# X = data.loc[data['id'].isin([2,3,4,5,7,9])]\n",
    "# X_train = X.drop(['id','age'],axis=1)\n",
    "# X_train['gender'] = X_train['gender'].map(encodeGender)\n",
    "# X_train = preprocessing.scale(X_train)\n",
    "# y_train = X['age'].map(encodeAge)\n",
    "\n",
    "# X2 = data.loc[data['id'].isin([1,10])] \n",
    "# X_test = X2.drop(['id','age'],axis=1)\n",
    "# X_test['gender'] = X_test['gender'].map(encodeGender)\n",
    "# X_test = preprocessing.scale(X_test)\n",
    "# y_test = X2['age'].map(encodeAge)\n",
    "\n"
   ]
  },
  {
   "cell_type": "code",
   "execution_count": 29,
   "metadata": {},
   "outputs": [
    {
     "name": "stdout",
     "output_type": "stream",
     "text": [
      "Accuracy: 0.9468681452595662\n",
      "[[5944  321]\n",
      " [ 333 5711]]\n",
      "              precision    recall  f1-score   support\n",
      "\n",
      "           0       0.95      0.95      0.95      6265\n",
      "           1       0.95      0.94      0.95      6044\n",
      "\n",
      "    accuracy                           0.95     12309\n",
      "   macro avg       0.95      0.95      0.95     12309\n",
      "weighted avg       0.95      0.95      0.95     12309\n",
      "\n",
      "Accuracy: 0.9359005605654399\n",
      "[[4810  448]\n",
      " [ 341 6710]]\n",
      "              precision    recall  f1-score   support\n",
      "\n",
      "           0       0.93      0.91      0.92      5258\n",
      "           1       0.94      0.95      0.94      7051\n",
      "\n",
      "    accuracy                           0.94     12309\n",
      "   macro avg       0.94      0.93      0.93     12309\n",
      "weighted avg       0.94      0.94      0.94     12309\n",
      "\n"
     ]
    }
   ],
   "source": [
    "# MULTILABEL\n",
    "for category in categories:\n",
    "    clf = XGBClassifier(\n",
    "    #BEST for Train: 2,3,4,5,7,9 and Test 1,10 Age\n",
    "    reg_lambda = 0.5,\n",
    "    reg_alpha = 0.5,\n",
    "    n_estimators = 200,\n",
    "    learning_rate = 0.1,\n",
    "    gamma = 0,\n",
    "    booster = 'gbtree',\n",
    "    base_score = 0.9,\n",
    "    min_child_weight = 1,\n",
    "    max_depth = 6,\n",
    "    subsample = 0.3,\n",
    "    colsample_bytree = 0.4)\n",
    "\n",
    "    clf.fit(X_train, train[category])\n",
    "    y_pred = clf.predict(X_test)\n",
    "    print(\"Accuracy:\", metrics.accuracy_score(test[category], y_pred))\n",
    "\n",
    "    from sklearn.metrics import classification_report, confusion_matrix\n",
    "    print(confusion_matrix(test[category],y_pred))\n",
    "    print(classification_report(test[category],y_pred))"
   ]
  },
  {
   "cell_type": "code",
   "execution_count": 4,
   "metadata": {},
   "outputs": [],
   "source": [
    "clf = XGBClassifier(\n",
    "# #BEST for Train: 2,3,4,5,7,9 and Test 1,10 Age w/GENDER\n",
    "#  reg_lambda = 1,\n",
    "#  reg_alpha = 0.5,\n",
    "#  n_estimators = 200,\n",
    "#  learning_rate = 0.1,\n",
    "#  gamma = 0,\n",
    "#  booster = 'gbtree',\n",
    "#  base_score = 0.9,\n",
    "#  min_child_weight = 1,\n",
    "#  max_depth = 6,\n",
    "#  subsample = 0.3,\n",
    "#  colsample_bytree = 0.5)\n",
    "#BEST for Train: 2,3,4,5,7,9 and Test 1,10 Age\n",
    "#  reg_lambda = 0.5,\n",
    "#  reg_alpha = 0.5,\n",
    "#  n_estimators = 200,\n",
    "#  learning_rate = 0.1,\n",
    "#  gamma = 0,\n",
    "#  booster = 'gbtree',\n",
    "#  base_score = 0.9,\n",
    "#  min_child_weight = 1,\n",
    "#  max_depth = 6,\n",
    "#  subsample = 0.3,\n",
    "#  colsample_bytree = 0.4)\n",
    " #BEST for Train 1 2 5, Test 3 4 Gender\n",
    "#  reg_lambda = 0.5, \n",
    "#  reg_alpha = 1,\n",
    "#  n_estimators = 200,\n",
    "#  learning_rate = 0.1,\n",
    "#  gamma = 0,\n",
    "#  booster = 'gbtree',\n",
    "#  base_score = 0.5,\n",
    "#  min_child_weight = 1,\n",
    "#  max_depth = 6,\n",
    "#  subsample = 0.5,\n",
    "#  colsample_bytree = 0.4)\n",
    "# BEST for tts Gender\n",
    " reg_lambda = 5, \n",
    " reg_alpha = 0.5,\n",
    " n_estimators = 400, #400\n",
    " learning_rate = 0.12,\n",
    " gamma = 0.5,\n",
    " booster = 'gbtree',\n",
    " base_score = 0.5,\n",
    " min_child_weight = 6,\n",
    " max_depth = 6,\n",
    " subsample = 0.5,\n",
    " colsample_bytree = 0.9)\n",
    "\n",
    "clf.fit(X_train, y_train)\n",
    "y_pred = clf.predict(X_test)"
   ]
  },
  {
   "cell_type": "code",
   "execution_count": 5,
   "metadata": {},
   "outputs": [
    {
     "name": "stdout",
     "output_type": "stream",
     "text": [
      "Accuracy: 0.9757935037668273\n",
      "[[5437   48]\n",
      " [ 148 2464]]\n",
      "              precision    recall  f1-score   support\n",
      "\n",
      "           0       0.97      0.99      0.98      5485\n",
      "           1       0.98      0.94      0.96      2612\n",
      "\n",
      "    accuracy                           0.98      8097\n",
      "   macro avg       0.98      0.97      0.97      8097\n",
      "weighted avg       0.98      0.98      0.98      8097\n",
      "\n"
     ]
    }
   ],
   "source": [
    "print(\"Accuracy:\",metrics.accuracy_score(y_test, y_pred))\n",
    "\n",
    "from sklearn.metrics import classification_report, confusion_matrix\n",
    "print(confusion_matrix(y_test,y_pred))\n",
    "print(classification_report(y_test,y_pred))"
   ]
  },
  {
   "cell_type": "code",
   "execution_count": 11,
   "metadata": {},
   "outputs": [
    {
     "data": {
      "image/png": "[encoded data removed]",
      "text/plain": [
       "<Figure size 720x432 with 1 Axes>"
      ]
     },
     "metadata": {
      "needs_background": "light"
     },
     "output_type": "display_data"
    }
   ],
   "source": [
    "from xgboost import plot_importance\n",
    "from matplotlib import pyplot\n",
    "# plot feature importance\n",
    "pyplot.rcParams[\"figure.figsize\"] = (10, 6)\n",
    "plot_importance(clf, max_num_features=10).set_yticklabels(['r_elbow_ang', 'r_knee_ang', 'r_ankle_ang_3', 'r_ankle_ang', 'r_knee_ang_3',\n",
    "    'r_elbow_ang_3', 'r_shoulder_ang_3', 'r_hip_ang_3', 'r_shoulder_ang', 'frame'])\n",
    "pyplot.show()\n",
    "# pyplot.savefig('filename.png', dpi=300)"
   ]
  },
  {
   "cell_type": "code",
   "execution_count": 9,
   "metadata": {},
   "outputs": [
    {
     "data": {
      "text/plain": [
       "['models/xgboost_gender_tts_125.pkl']"
      ]
     },
     "execution_count": 9,
     "metadata": {},
     "output_type": "execute_result"
    }
   ],
   "source": [
    "from joblib import Parallel, delayed\n",
    "import joblib\n",
    "# Save the model as a pickle in a file\n",
    "joblib.dump(clf, 'models/xgboost_gender_tts_125.pkl')"
   ]
  },
  {
   "cell_type": "code",
   "execution_count": 37,
   "metadata": {},
   "outputs": [
    {
     "name": "stdout",
     "output_type": "stream",
     "text": [
      "0.5534043941701109\n"
     ]
    }
   ],
   "source": [
    "# Load the model from the file\n",
    "xgboost_from_joblib = joblib.load('models/xgboost_age_tts_234567.pkl')\n",
    "# Use the loaded model to make predictions\n",
    "xgboost_from_joblib.predict(X_test)\n",
    "acc = xgboost_from_joblib.score(X_test, y_test)\n",
    "print(acc)"
   ]
  },
  {
   "cell_type": "code",
   "execution_count": 94,
   "metadata": {},
   "outputs": [],
   "source": [
    "from sklearn.model_selection import GridSearchCV\n",
    "from sklearn.model_selection import RandomizedSearchCV\n",
    "\n",
    "param = {\n",
    "    'n_estimators': [100, 200, 500],\n",
    "    'learning_rate': [0.01,0.05,0.1],\n",
    "    'booster': ['gbtree', 'gblinear'],\n",
    "    'gamma': [0, 0.5, 1],\n",
    "    'reg_alpha': [0, 0.5, 1],\n",
    "    'reg_lambda': [0.5, 1, 5],\n",
    "    'base_score': [0.2, 0.5, 0.9],\n",
    "    'max_depth': range(1,10,2),\n",
    "    'min_child_weight': range(1,10,2), \n",
    "    'subsample' : [i/10.0 for i in range(5,10)],\n",
    "    'colsample_bytree' :[i/10.0 for i in range(5,10)]\n",
    "}"
   ]
  },
  {
   "cell_type": "code",
   "execution_count": 103,
   "metadata": {},
   "outputs": [
    {
     "name": "stdout",
     "output_type": "stream",
     "text": [
      "Fitting 5 folds for each of 10 candidates, totalling 50 fits\n"
     ]
    },
    {
     "data": {
      "text/plain": [
       "0.9511637977956019"
      ]
     },
     "execution_count": 103,
     "metadata": {},
     "output_type": "execute_result"
    }
   ],
   "source": [
    "rnd_search = RandomizedSearchCV(XGBClassifier(), param_distributions=param,n_jobs=-1, verbose = 10, n_iter =10)\n",
    "rnd_search.fit(X_train,y_train)\n",
    "rnd_search.best_score_"
   ]
  },
  {
   "cell_type": "code",
   "execution_count": 104,
   "metadata": {},
   "outputs": [
    {
     "data": {
      "text/plain": [
       "{'subsample': 0.7,\n",
       " 'reg_lambda': 5,\n",
       " 'reg_alpha': 0.5,\n",
       " 'n_estimators': 200,\n",
       " 'min_child_weight': 9,\n",
       " 'max_depth': 9,\n",
       " 'learning_rate': 0.1,\n",
       " 'gamma': 0.5,\n",
       " 'colsample_bytree': 0.5,\n",
       " 'booster': 'gbtree',\n",
       " 'base_score': 0.2}"
      ]
     },
     "execution_count": 104,
     "metadata": {},
     "output_type": "execute_result"
    }
   ],
   "source": [
    "rnd_search.best_params_"
   ]
  }
 ],
 "metadata": {
  "kernelspec": {
   "display_name": "Python 3.8.0 64-bit",
   "language": "python",
   "name": "python3"
  },
  "language_info": {
   "codemirror_mode": {
    "name": "ipython",
    "version": 3
   },
   "file_extension": ".py",
   "mimetype": "text/x-python",
   "name": "python",
   "nbconvert_exporter": "python",
   "pygments_lexer": "ipython3",
   "version": "3.8.0"
  },
  "orig_nbformat": 4,
  "vscode": {
   "interpreter": {
    "hash": "8f7966f791852dc8d3efa84237a2aea877d88803fed36f0ab10ea74530d7a649"
   }
  }
 },
 "nbformat": 4,
 "nbformat_minor": 2
}
