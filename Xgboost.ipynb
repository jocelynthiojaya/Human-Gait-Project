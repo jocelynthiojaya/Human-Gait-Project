{
 "cells": [
  {
   "cell_type": "code",
   "execution_count": 33,
   "metadata": {},
   "outputs": [],
   "source": [
    "import pandas as pd\n",
    "from sklearn.model_selection import train_test_split\n",
    "from sklearn import metrics\n",
    "from sklearn import preprocessing\n",
    "from xgboost import XGBClassifier"
   ]
  },
  {
   "cell_type": "code",
   "execution_count": 34,
   "metadata": {},
   "outputs": [],
   "source": [
    "# data = pd.read_csv(\"csv/walk.csv\",index_col=False)\n",
    "# X = data[[\"r_hip_ang\", \"r_knee_ang\", \"r_ankle_ang\", \"r_elbow_ang\", \"r_shoulder_ang\",]]\n",
    "#         # \"r_hip_vel\", \"r_knee_vel\", \"r_ankle_vel\", \"r_elbow_vel\", \"r_shoulder_vel\",\n",
    "#         # \"r_hip_accel\", \"r_knee_accel\", \"r_ankle_accel\", \"r_elbow_accel\", \"r_shoulder_accel\"]]\n",
    "# # X = data.drop(['gender', \"id\"], axis=1)\n",
    "\n",
    "# encode = {'male': 0, 'female': 1}\n",
    "# y = data['gender'].map(encode)\n",
    "# X  = preprocessing.scale(X)\n",
    "\n",
    "\n",
    "# X_train, X_test, y_train, y_test = train_test_split(X, y, test_size = 0.20)"
   ]
  },
  {
   "cell_type": "code",
   "execution_count": 54,
   "metadata": {},
   "outputs": [],
   "source": [
    "data = pd.read_csv(\"csv/walk.csv\",index_col=False)\n",
    "encode = {'male': 0, 'female': 1}\n",
    "\n",
    "X = data.loc[data['id'].isin([1,2])]\n",
    "X_train = X [[\"r_hip_ang\", \"r_knee_ang\", \"r_ankle_ang\", \"r_elbow_ang\", \"r_shoulder_ang\",\n",
    "        \"r_hip_vel\", \"r_knee_vel\", \"r_ankle_vel\", \"r_elbow_vel\", \"r_shoulder_vel\",\n",
    "        \"r_hip_accel\", \"r_knee_accel\", \"r_ankle_accel\", \"r_elbow_accel\", \"r_shoulder_accel\"]]\n",
    "#X_train = X.drop(['id','gender'],axis=1)\n",
    "X_train = preprocessing.scale(X_train)\n",
    "y_train = X['gender'].map(encode)\n",
    "\n",
    "X2 = data.loc[data['id'].isin([3,4])]\n",
    "X_test = X2 [[\"r_hip_ang\", \"r_knee_ang\", \"r_ankle_ang\", \"r_elbow_ang\", \"r_shoulder_ang\",\n",
    "        \"r_hip_vel\", \"r_knee_vel\", \"r_ankle_vel\", \"r_elbow_vel\", \"r_shoulder_vel\",\n",
    "        \"r_hip_accel\", \"r_knee_accel\", \"r_ankle_accel\", \"r_elbow_accel\", \"r_shoulder_accel\"]]\n",
    "#X_test = X2.drop(['id','gender'],axis=1)\n",
    "X_test = preprocessing.scale(X_test)\n",
    "y_test = X2['gender'].map(encode)"
   ]
  },
  {
   "cell_type": "code",
   "execution_count": 57,
   "metadata": {},
   "outputs": [],
   "source": [
    "clf = XGBClassifier(reg_lambda = 1,\n",
    " reg_alpha = 0,\n",
    " n_estimators = 500,\n",
    " learning_rate = 0.05,\n",
    " gamma = 0.5,\n",
    " booster = 'gbtree',\n",
    " base_score = 0.2)\n",
    "clf.fit(X_train, y_train)\n",
    "\n",
    "y_pred = clf.predict(X_test)\n"
   ]
  },
  {
   "cell_type": "code",
   "execution_count": 58,
   "metadata": {},
   "outputs": [
    {
     "name": "stdout",
     "output_type": "stream",
     "text": [
      "Accuracy: 0.7903011781736298\n",
      "[[ 9634  3295]\n",
      " [ 1920 10020]]\n",
      "              precision    recall  f1-score   support\n",
      "\n",
      "           0       0.83      0.75      0.79     12929\n",
      "           1       0.75      0.84      0.79     11940\n",
      "\n",
      "    accuracy                           0.79     24869\n",
      "   macro avg       0.79      0.79      0.79     24869\n",
      "weighted avg       0.79      0.79      0.79     24869\n",
      "\n"
     ]
    }
   ],
   "source": [
    "print(\"Accuracy:\",metrics.accuracy_score(y_test, y_pred))\n",
    "\n",
    "from sklearn.metrics import classification_report, confusion_matrix\n",
    "print(confusion_matrix(y_test,y_pred))\n",
    "print(classification_report(y_test,y_pred))"
   ]
  },
  {
   "cell_type": "code",
   "execution_count": 51,
   "metadata": {},
   "outputs": [],
   "source": [
    "from sklearn.model_selection import GridSearchCV\n",
    "from sklearn.model_selection import RandomizedSearchCV\n",
    "\n",
    "param = {\n",
    "    'n_estimators': [100, 200, 500],\n",
    "    'learning_rate': [0.01,0.05,0.1],\n",
    "    'booster': ['gbtree', 'gblinear'],\n",
    "    'gamma': [0, 0.5, 1],\n",
    "    'reg_alpha': [0, 0.5, 1],\n",
    "    'reg_lambda': [0.5, 1, 5],\n",
    "    'base_score': [0.2, 0.5, 1]\n",
    "}"
   ]
  },
  {
   "cell_type": "code",
   "execution_count": 52,
   "metadata": {},
   "outputs": [
    {
     "name": "stdout",
     "output_type": "stream",
     "text": [
      "Fitting 5 folds for each of 10 candidates, totalling 50 fits\n"
     ]
    },
    {
     "name": "stderr",
     "output_type": "stream",
     "text": [
      "c:\\Users\\jocel\\AppData\\Local\\Programs\\Python\\Python38\\lib\\site-packages\\sklearn\\model_selection\\_validation.py:372: FitFailedWarning: \n",
      "15 fits failed out of a total of 50.\n",
      "The score on these train-test partitions for these parameters will be set to nan.\n",
      "If these failures are not expected, you can try to debug them by setting error_score='raise'.\n",
      "\n",
      "Below are more details about the failures:\n",
      "--------------------------------------------------------------------------------\n",
      "5 fits failed with the following error:\n",
      "Traceback (most recent call last):\n",
      "  File \"c:\\Users\\jocel\\AppData\\Local\\Programs\\Python\\Python38\\lib\\site-packages\\sklearn\\model_selection\\_validation.py\", line 681, in _fit_and_score\n",
      "    estimator.fit(X_train, y_train, **fit_params)\n",
      "  File \"c:\\Users\\jocel\\AppData\\Local\\Programs\\Python\\Python38\\lib\\site-packages\\xgboost\\core.py\", line 620, in inner_f\n",
      "    return func(**kwargs)\n",
      "  File \"c:\\Users\\jocel\\AppData\\Local\\Programs\\Python\\Python38\\lib\\site-packages\\xgboost\\sklearn.py\", line 1516, in fit\n",
      "    self._Booster = train(\n",
      "  File \"c:\\Users\\jocel\\AppData\\Local\\Programs\\Python\\Python38\\lib\\site-packages\\xgboost\\core.py\", line 620, in inner_f\n",
      "    return func(**kwargs)\n",
      "  File \"c:\\Users\\jocel\\AppData\\Local\\Programs\\Python\\Python38\\lib\\site-packages\\xgboost\\training.py\", line 185, in train\n",
      "    bst.update(dtrain, i, obj)\n",
      "  File \"c:\\Users\\jocel\\AppData\\Local\\Programs\\Python\\Python38\\lib\\site-packages\\xgboost\\core.py\", line 1918, in update\n",
      "    _check_call(_LIB.XGBoosterUpdateOneIter(self.handle,\n",
      "  File \"c:\\Users\\jocel\\AppData\\Local\\Programs\\Python\\Python38\\lib\\site-packages\\xgboost\\core.py\", line 279, in _check_call\n",
      "    raise XGBoostError(py_str(_LIB.XGBGetLastError()))\n",
      "xgboost.core.XGBoostError: [15:16:32] c:\\buildkite-agent\\builds\\buildkite-windows-cpu-autoscaling-group-i-03de431ba26204c4d-1\\xgboost\\xgboost-ci-windows\\src\\objective\\./regression_loss.h:94: Check failed: base_score > 0.0f && base_score < 1.0f: base_score must be in (0,1) for logistic loss, got: 1\n",
      "\n",
      "--------------------------------------------------------------------------------\n",
      "5 fits failed with the following error:\n",
      "Traceback (most recent call last):\n",
      "  File \"c:\\Users\\jocel\\AppData\\Local\\Programs\\Python\\Python38\\lib\\site-packages\\sklearn\\model_selection\\_validation.py\", line 681, in _fit_and_score\n",
      "    estimator.fit(X_train, y_train, **fit_params)\n",
      "  File \"c:\\Users\\jocel\\AppData\\Local\\Programs\\Python\\Python38\\lib\\site-packages\\xgboost\\core.py\", line 620, in inner_f\n",
      "    return func(**kwargs)\n",
      "  File \"c:\\Users\\jocel\\AppData\\Local\\Programs\\Python\\Python38\\lib\\site-packages\\xgboost\\sklearn.py\", line 1516, in fit\n",
      "    self._Booster = train(\n",
      "  File \"c:\\Users\\jocel\\AppData\\Local\\Programs\\Python\\Python38\\lib\\site-packages\\xgboost\\core.py\", line 620, in inner_f\n",
      "    return func(**kwargs)\n",
      "  File \"c:\\Users\\jocel\\AppData\\Local\\Programs\\Python\\Python38\\lib\\site-packages\\xgboost\\training.py\", line 185, in train\n",
      "    bst.update(dtrain, i, obj)\n",
      "  File \"c:\\Users\\jocel\\AppData\\Local\\Programs\\Python\\Python38\\lib\\site-packages\\xgboost\\core.py\", line 1918, in update\n",
      "    _check_call(_LIB.XGBoosterUpdateOneIter(self.handle,\n",
      "  File \"c:\\Users\\jocel\\AppData\\Local\\Programs\\Python\\Python38\\lib\\site-packages\\xgboost\\core.py\", line 279, in _check_call\n",
      "    raise XGBoostError(py_str(_LIB.XGBGetLastError()))\n",
      "xgboost.core.XGBoostError: [15:16:35] c:\\buildkite-agent\\builds\\buildkite-windows-cpu-autoscaling-group-i-03de431ba26204c4d-1\\xgboost\\xgboost-ci-windows\\src\\objective\\./regression_loss.h:94: Check failed: base_score > 0.0f && base_score < 1.0f: base_score must be in (0,1) for logistic loss, got: 1\n",
      "\n",
      "--------------------------------------------------------------------------------\n",
      "5 fits failed with the following error:\n",
      "Traceback (most recent call last):\n",
      "  File \"c:\\Users\\jocel\\AppData\\Local\\Programs\\Python\\Python38\\lib\\site-packages\\sklearn\\model_selection\\_validation.py\", line 681, in _fit_and_score\n",
      "    estimator.fit(X_train, y_train, **fit_params)\n",
      "  File \"c:\\Users\\jocel\\AppData\\Local\\Programs\\Python\\Python38\\lib\\site-packages\\xgboost\\core.py\", line 620, in inner_f\n",
      "    return func(**kwargs)\n",
      "  File \"c:\\Users\\jocel\\AppData\\Local\\Programs\\Python\\Python38\\lib\\site-packages\\xgboost\\sklearn.py\", line 1516, in fit\n",
      "    self._Booster = train(\n",
      "  File \"c:\\Users\\jocel\\AppData\\Local\\Programs\\Python\\Python38\\lib\\site-packages\\xgboost\\core.py\", line 620, in inner_f\n",
      "    return func(**kwargs)\n",
      "  File \"c:\\Users\\jocel\\AppData\\Local\\Programs\\Python\\Python38\\lib\\site-packages\\xgboost\\training.py\", line 185, in train\n",
      "    bst.update(dtrain, i, obj)\n",
      "  File \"c:\\Users\\jocel\\AppData\\Local\\Programs\\Python\\Python38\\lib\\site-packages\\xgboost\\core.py\", line 1918, in update\n",
      "    _check_call(_LIB.XGBoosterUpdateOneIter(self.handle,\n",
      "  File \"c:\\Users\\jocel\\AppData\\Local\\Programs\\Python\\Python38\\lib\\site-packages\\xgboost\\core.py\", line 279, in _check_call\n",
      "    raise XGBoostError(py_str(_LIB.XGBGetLastError()))\n",
      "xgboost.core.XGBoostError: [15:17:04] c:\\buildkite-agent\\builds\\buildkite-windows-cpu-autoscaling-group-i-03de431ba26204c4d-1\\xgboost\\xgboost-ci-windows\\src\\objective\\./regression_loss.h:94: Check failed: base_score > 0.0f && base_score < 1.0f: base_score must be in (0,1) for logistic loss, got: 1\n",
      "\n",
      "  warnings.warn(some_fits_failed_message, FitFailedWarning)\n",
      "c:\\Users\\jocel\\AppData\\Local\\Programs\\Python\\Python38\\lib\\site-packages\\sklearn\\model_selection\\_search.py:969: UserWarning: One or more of the test scores are non-finite: [0.5125432  0.5125432  0.69052708        nan 0.9189817  0.5125432\n",
      " 0.90381834        nan 0.91968793        nan]\n",
      "  warnings.warn(\n"
     ]
    },
    {
     "data": {
      "text/plain": [
       "0.9196879257301193"
      ]
     },
     "execution_count": 52,
     "metadata": {},
     "output_type": "execute_result"
    }
   ],
   "source": [
    "rnd_search = RandomizedSearchCV(XGBClassifier(), param_distributions=param,n_jobs=-1, verbose = 10, n_iter =10)\n",
    "rnd_search.fit(X_train,y_train)\n",
    "rnd_search.best_score_"
   ]
  },
  {
   "cell_type": "code",
   "execution_count": 53,
   "metadata": {},
   "outputs": [
    {
     "data": {
      "text/plain": [
       "{'reg_lambda': 1,\n",
       " 'reg_alpha': 0,\n",
       " 'n_estimators': 500,\n",
       " 'learning_rate': 0.05,\n",
       " 'gamma': 0.5,\n",
       " 'booster': 'gbtree',\n",
       " 'base_score': 0.2}"
      ]
     },
     "execution_count": 53,
     "metadata": {},
     "output_type": "execute_result"
    }
   ],
   "source": [
    "rnd_search.best_params_"
   ]
  }
 ],
 "metadata": {
  "kernelspec": {
   "display_name": "Python 3.8.0 64-bit",
   "language": "python",
   "name": "python3"
  },
  "language_info": {
   "codemirror_mode": {
    "name": "ipython",
    "version": 3
   },
   "file_extension": ".py",
   "mimetype": "text/x-python",
   "name": "python",
   "nbconvert_exporter": "python",
   "pygments_lexer": "ipython3",
   "version": "3.8.0"
  },
  "orig_nbformat": 4,
  "vscode": {
   "interpreter": {
    "hash": "8f7966f791852dc8d3efa84237a2aea877d88803fed36f0ab10ea74530d7a649"
   }
  }
 },
 "nbformat": 4,
 "nbformat_minor": 2
}
