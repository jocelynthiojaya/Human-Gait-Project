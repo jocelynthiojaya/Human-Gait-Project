{
 "cells": [
  {
   "cell_type": "code",
   "execution_count": 1,
   "metadata": {},
   "outputs": [],
   "source": [
    "import pandas as pd\n",
    "from sklearn.model_selection import train_test_split\n",
    "from sklearn import metrics\n",
    "from sklearn import preprocessing\n",
    "from xgboost import XGBClassifier"
   ]
  },
  {
   "cell_type": "code",
   "execution_count": 21,
   "metadata": {},
   "outputs": [],
   "source": [
    "data = pd.read_csv(\"csv/walk.csv\",index_col=False)\n",
    "data = data.loc[data['id'].isin([2,3,4,6,8])]\n",
    "# X = data[[\"r_hip_ang\", \"r_knee_ang\", \"r_ankle_ang\", \"r_elbow_ang\", \"r_shoulder_ang\",]]\n",
    "        # \"r_hip_vel\", \"r_knee_vel\", \"r_ankle_vel\", \"r_elbow_vel\", \"r_shoulder_vel\",\n",
    "        # \"r_hip_accel\", \"r_knee_accel\", \"r_ankle_accel\", \"r_elbow_accel\", \"r_shoulder_accel\"]]\n",
    "X = data.drop([\"id\",\"gender\",\"age\"], axis=1)\n",
    "\n",
    "# encode = {'male': 0, 'female': 1}\n",
    "encode = {'<40': 0, '>40': 1}\n",
    "y = data['age'].map(encode)\n",
    "X  = preprocessing.scale(X)\n",
    "\n",
    "\n",
    "X_train, X_test, y_train, y_test = train_test_split(X, y, test_size = 0.20)"
   ]
  },
  {
   "cell_type": "code",
   "execution_count": 44,
   "metadata": {},
   "outputs": [],
   "source": [
    "data = pd.read_csv(\"csv/walk.csv\",index_col=False)\n",
    "encode = {'<40': 0, '>40': 1}\n",
    "# encode = {'male': 0, 'female': 1}\n",
    "\n",
    "X = data.loc[data['id'].isin([2,3,4,5,6,8])]\n",
    "# X_train = X [[\"r_hip_ang\", \"r_knee_ang\", \"r_ankle_ang\", \"r_elbow_ang\", \"r_shoulder_ang\"]]\n",
    "#         \"r_hip_vel\", \"r_knee_vel\", \"r_ankle_vel\", \"r_elbow_vel\", \"r_shoulder_vel\",\n",
    "#         \"r_hip_accel\", \"r_knee_accel\", \"r_ankle_accel\", \"r_elbow_accel\", \"r_shoulder_accel\"]]\n",
    "X_train = X.drop(['id','gender','age'],axis=1) #,'r_shoulder_ang','r_elbow_ang','r_knee_vel_3','r_elbow_vel_3','r_shoulder_vel_3'],axis=1)\n",
    "X_train = preprocessing.scale(X_train)\n",
    "y_train = X['age'].map(encode)\n",
    "\n",
    "X2 = data.loc[data['id'].isin([8])] \n",
    "# X_test = X2 [[\"r_hip_ang\", \"r_knee_ang\", \"r_ankle_ang\", \"r_elbow_ang\", \"r_shoulder_ang\"]]\n",
    "        # \"r_hip_vel\", \"r_knee_vel\", \"r_ankle_vel\", \"r_elbow_vel\", \"r_shoulder_vel\",\n",
    "        # \"r_hip_accel\", \"r_knee_accel\", \"r_ankle_accel\", \"r_elbow_accel\", \"r_shoulder_accel\"]]\n",
    "X_test = X2.drop(['id','gender','age'],axis=1) #,'r_shoulder_ang','r_elbow_ang','r_knee_vel_3','r_elbow_vel_3','r_shoulder_vel_3'],axis=1)\n",
    "X_test = preprocessing.scale(X_test)\n",
    "y_test = X2['age'].map(encode)"
   ]
  },
  {
   "cell_type": "code",
   "execution_count": 139,
   "metadata": {},
   "outputs": [],
   "source": [
    "# # WITH GENDER\n",
    "# data = pd.read_csv(\"csv/walk.csv\",index_col=False)\n",
    "# encodeAge = {'<40': 0, '>40': 1}\n",
    "# encodeGender = {'male': 0, 'female': 1}\n",
    "# encode = {'<40': 0, '>40': 1, 'male': 0, 'female': 1}\n",
    "\n",
    "# X = data.loc[data['id'].isin([2,3,4,5,7,9])]\n",
    "# X_train = X.drop(['id','age'],axis=1)\n",
    "# X_train['gender'] = X_train['gender'].map(encodeGender)\n",
    "# X_train = preprocessing.scale(X_train)\n",
    "# y_train = X['age'].map(encodeAge)\n",
    "\n",
    "# X2 = data.loc[data['id'].isin([1,10])] \n",
    "# X_test = X2.drop(['id','age'],axis=1)\n",
    "# X_test['gender'] = X_test['gender'].map(encodeGender)\n",
    "# X_test = preprocessing.scale(X_test)\n",
    "# y_test = X2['age'].map(encodeAge)\n",
    "\n"
   ]
  },
  {
   "cell_type": "code",
   "execution_count": 45,
   "metadata": {},
   "outputs": [],
   "source": [
    "clf = XGBClassifier(\n",
    "# #BEST for Train: 2,3,4,5,7,9 and Test 1,10 Age w/GENDER\n",
    "#  reg_lambda = 1,\n",
    "#  reg_alpha = 0.5,\n",
    "#  n_estimators = 200,\n",
    "#  learning_rate = 0.1,\n",
    "#  gamma = 0,\n",
    "#  booster = 'gbtree',\n",
    "#  base_score = 0.9,\n",
    "#  min_child_weight = 1,\n",
    "#  max_depth = 6,\n",
    "#  subsample = 0.3,\n",
    "#  colsample_bytree = 0.5)\n",
    "#BEST for Train: 2,3,4,5,7,9 and Test 1,10 Age\n",
    " reg_lambda = 0.5,\n",
    " reg_alpha = 0.5,\n",
    " n_estimators = 200,\n",
    " learning_rate = 0.1,\n",
    " gamma = 0,\n",
    " booster = 'gbtree',\n",
    " base_score = 0.9,\n",
    " min_child_weight = 1,\n",
    " max_depth = 6,\n",
    " subsample = 0.3,\n",
    " colsample_bytree = 0.4)\n",
    " #BEST for Train 1 2 5, Test 3 4 Gender\n",
    "#  reg_lambda = 0.5, \n",
    "#  reg_alpha = 1,\n",
    "#  n_estimators = 200,\n",
    "#  learning_rate = 0.1,\n",
    "#  gamma = 0,\n",
    "#  booster = 'gbtree',\n",
    "#  base_score = 0.5,\n",
    "#  min_child_weight = 1,\n",
    "#  max_depth = 6,\n",
    "#  subsample = 0.5,\n",
    "#  colsample_bytree = 0.4)\n",
    "# BEST for tts gender\n",
    "#  reg_lambda = 5, \n",
    "#  reg_alpha = 0.5,\n",
    "#  n_estimators = 400, #400\n",
    "#  learning_rate = 0.12,\n",
    "#  gamma = 0.5,\n",
    "#  booster = 'gbtree',\n",
    "#  base_score = 0.5,\n",
    "#  min_child_weight = 6,\n",
    "#  max_depth = 6,\n",
    "#  subsample = 0.5,\n",
    "#  colsample_bytree = 0.9)\n",
    "\n",
    "clf.fit(X_train, y_train)\n",
    "y_pred = clf.predict(X_test)\n"
   ]
  },
  {
   "cell_type": "code",
   "execution_count": 46,
   "metadata": {},
   "outputs": [
    {
     "name": "stdout",
     "output_type": "stream",
     "text": [
      "Accuracy: 0.3965479571771903\n",
      "[[   0    0]\n",
      " [2762 1815]]\n",
      "              precision    recall  f1-score   support\n",
      "\n",
      "           0       0.00      0.00      0.00         0\n",
      "           1       1.00      0.40      0.57      4577\n",
      "\n",
      "    accuracy                           0.40      4577\n",
      "   macro avg       0.50      0.20      0.28      4577\n",
      "weighted avg       1.00      0.40      0.57      4577\n",
      "\n"
     ]
    },
    {
     "name": "stderr",
     "output_type": "stream",
     "text": [
      "c:\\Users\\jocel\\AppData\\Local\\Programs\\Python\\Python38\\lib\\site-packages\\sklearn\\metrics\\_classification.py:1344: UndefinedMetricWarning: Recall and F-score are ill-defined and being set to 0.0 in labels with no true samples. Use `zero_division` parameter to control this behavior.\n",
      "  _warn_prf(average, modifier, msg_start, len(result))\n",
      "c:\\Users\\jocel\\AppData\\Local\\Programs\\Python\\Python38\\lib\\site-packages\\sklearn\\metrics\\_classification.py:1344: UndefinedMetricWarning: Recall and F-score are ill-defined and being set to 0.0 in labels with no true samples. Use `zero_division` parameter to control this behavior.\n",
      "  _warn_prf(average, modifier, msg_start, len(result))\n",
      "c:\\Users\\jocel\\AppData\\Local\\Programs\\Python\\Python38\\lib\\site-packages\\sklearn\\metrics\\_classification.py:1344: UndefinedMetricWarning: Recall and F-score are ill-defined and being set to 0.0 in labels with no true samples. Use `zero_division` parameter to control this behavior.\n",
      "  _warn_prf(average, modifier, msg_start, len(result))\n"
     ]
    }
   ],
   "source": [
    "print(\"Accuracy:\",metrics.accuracy_score(y_test, y_pred))\n",
    "\n",
    "from sklearn.metrics import classification_report, confusion_matrix\n",
    "print(confusion_matrix(y_test,y_pred))\n",
    "print(classification_report(y_test,y_pred))"
   ]
  },
  {
   "cell_type": "code",
   "execution_count": 47,
   "metadata": {},
   "outputs": [
    {
     "data": {
      "text/plain": [
       "['models/xgboost_age_notts_234568.pkl']"
      ]
     },
     "execution_count": 47,
     "metadata": {},
     "output_type": "execute_result"
    }
   ],
   "source": [
    "from joblib import Parallel, delayed\n",
    "import joblib\n",
    "# Save the model as a pickle in a file\n",
    "joblib.dump(clf, 'models/xgboost_age_notts_234568.pkl')"
   ]
  },
  {
   "cell_type": "code",
   "execution_count": 37,
   "metadata": {},
   "outputs": [
    {
     "name": "stdout",
     "output_type": "stream",
     "text": [
      "0.5534043941701109\n"
     ]
    }
   ],
   "source": [
    "# Load the model from the file\n",
    "xgboost_from_joblib = joblib.load('models/xgboost_age_tts_234567.pkl')\n",
    "# Use the loaded model to make predictions\n",
    "xgboost_from_joblib.predict(X_test)\n",
    "acc = xgboost_from_joblib.score(X_test, y_test)\n",
    "print(acc)"
   ]
  },
  {
   "cell_type": "code",
   "execution_count": 94,
   "metadata": {},
   "outputs": [],
   "source": [
    "from sklearn.model_selection import GridSearchCV\n",
    "from sklearn.model_selection import RandomizedSearchCV\n",
    "\n",
    "param = {\n",
    "    'n_estimators': [100, 200, 500],\n",
    "    'learning_rate': [0.01,0.05,0.1],\n",
    "    'booster': ['gbtree', 'gblinear'],\n",
    "    'gamma': [0, 0.5, 1],\n",
    "    'reg_alpha': [0, 0.5, 1],\n",
    "    'reg_lambda': [0.5, 1, 5],\n",
    "    'base_score': [0.2, 0.5, 0.9],\n",
    "    'max_depth': range(1,10,2),\n",
    "    'min_child_weight': range(1,10,2), \n",
    "    'subsample' : [i/10.0 for i in range(5,10)],\n",
    "    'colsample_bytree' :[i/10.0 for i in range(5,10)]\n",
    "}"
   ]
  },
  {
   "cell_type": "code",
   "execution_count": 103,
   "metadata": {},
   "outputs": [
    {
     "name": "stdout",
     "output_type": "stream",
     "text": [
      "Fitting 5 folds for each of 10 candidates, totalling 50 fits\n"
     ]
    },
    {
     "data": {
      "text/plain": [
       "0.9511637977956019"
      ]
     },
     "execution_count": 103,
     "metadata": {},
     "output_type": "execute_result"
    }
   ],
   "source": [
    "rnd_search = RandomizedSearchCV(XGBClassifier(), param_distributions=param,n_jobs=-1, verbose = 10, n_iter =10)\n",
    "rnd_search.fit(X_train,y_train)\n",
    "rnd_search.best_score_"
   ]
  },
  {
   "cell_type": "code",
   "execution_count": 104,
   "metadata": {},
   "outputs": [
    {
     "data": {
      "text/plain": [
       "{'subsample': 0.7,\n",
       " 'reg_lambda': 5,\n",
       " 'reg_alpha': 0.5,\n",
       " 'n_estimators': 200,\n",
       " 'min_child_weight': 9,\n",
       " 'max_depth': 9,\n",
       " 'learning_rate': 0.1,\n",
       " 'gamma': 0.5,\n",
       " 'colsample_bytree': 0.5,\n",
       " 'booster': 'gbtree',\n",
       " 'base_score': 0.2}"
      ]
     },
     "execution_count": 104,
     "metadata": {},
     "output_type": "execute_result"
    }
   ],
   "source": [
    "rnd_search.best_params_"
   ]
  }
 ],
 "metadata": {
  "kernelspec": {
   "display_name": "Python 3.8.0 64-bit",
   "language": "python",
   "name": "python3"
  },
  "language_info": {
   "codemirror_mode": {
    "name": "ipython",
    "version": 3
   },
   "file_extension": ".py",
   "mimetype": "text/x-python",
   "name": "python",
   "nbconvert_exporter": "python",
   "pygments_lexer": "ipython3",
   "version": "3.8.0"
  },
  "orig_nbformat": 4,
  "vscode": {
   "interpreter": {
    "hash": "8f7966f791852dc8d3efa84237a2aea877d88803fed36f0ab10ea74530d7a649"
   }
  }
 },
 "nbformat": 4,
 "nbformat_minor": 2
}
