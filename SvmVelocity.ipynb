{
 "cells": [
  {
   "cell_type": "code",
   "execution_count": 1,
   "id": "e47b7b9c",
   "metadata": {},
   "outputs": [],
   "source": [
    "import pandas as pd\n",
    "import numpy as np\n",
    "import matplotlib.pyplot as plt\n",
    "from sklearn.model_selection import train_test_split\n",
    "from sklearn.svm import SVC\n",
    "from sklearn import metrics\n",
    "from sklearn import preprocessing\n",
    "import csv\n",
    "from ast import literal_eval"
   ]
  },
  {
   "cell_type": "code",
   "execution_count": 2,
   "id": "33ae90c3",
   "metadata": {},
   "outputs": [
    {
     "name": "stdout",
     "output_type": "stream",
     "text": [
      "[LibSVM]Finished Training\n"
     ]
    }
   ],
   "source": [
    "data = pd.read_csv(\"csv/walk.csv\",index_col=False)\n",
    "X = data.drop(['id','gender'],axis=1)\n",
    "y = data['gender']\n",
    "X  = preprocessing.scale(X)\n",
    "X_train, X_test, y_train, y_test = train_test_split(X, y, test_size = 0.20)\n",
    "svclassifier = SVC(kernel='rbf',C=10.0, degree=3,coef0=0.001, gamma=0.5,verbose=10)\n",
    "svclassifier.fit(X_train, y_train)\n",
    "y_pred = svclassifier.predict(X_test)\n",
    "print('Finished Training')"
   ]
  },
  {
   "cell_type": "code",
   "execution_count": 3,
   "id": "8ecbb370",
   "metadata": {},
   "outputs": [
    {
     "name": "stdout",
     "output_type": "stream",
     "text": [
      "Accuracy: 0.9542294322132098\n",
      "[[4920   61]\n",
      " [ 413 4962]]\n",
      "              precision    recall  f1-score   support\n",
      "\n",
      "      female       0.92      0.99      0.95      4981\n",
      "        male       0.99      0.92      0.95      5375\n",
      "\n",
      "    accuracy                           0.95     10356\n",
      "   macro avg       0.96      0.96      0.95     10356\n",
      "weighted avg       0.96      0.95      0.95     10356\n",
      "\n"
     ]
    }
   ],
   "source": [
    "print(\"Accuracy:\",metrics.accuracy_score(y_test, y_pred))\n",
    "\n",
    "from sklearn.metrics import classification_report, confusion_matrix\n",
    "print(confusion_matrix(y_test,y_pred))\n",
    "print(classification_report(y_test,y_pred))"
   ]
  },
  {
   "cell_type": "code",
   "execution_count": 4,
   "id": "8ade79eb",
   "metadata": {},
   "outputs": [],
   "source": [
    "from sklearn.model_selection import RandomizedSearchCV\n",
    "from sklearn.model_selection import GridSearchCV\n",
    "param = {'kernel': ('linear','rbf'),\n",
    "        'C': [0.01,0.1,1.0,10.0],\n",
    "        'degree': [3,8],\n",
    "        'coef0':[0.001,10,0.5],\n",
    "        'gamma': [0.005,0.5]}"
   ]
  },
  {
   "cell_type": "code",
   "execution_count": 5,
   "id": "52bd77a1",
   "metadata": {},
   "outputs": [
    {
     "name": "stdout",
     "output_type": "stream",
     "text": [
      "Fitting 5 folds for each of 96 candidates, totalling 480 fits\n"
     ]
    }
   ],
   "source": [
    "rnd_search = GridSearchCV(SVC(), \n",
    "                param_grid=param, \n",
    "                n_jobs=-1, \n",
    "                verbose = 10)\n",
    "rnd_search.fit(X_train,y_train)\n",
    "rnd_search.best_score_"
   ]
  },
  {
   "cell_type": "code",
   "execution_count": null,
   "id": "b1c5fc54",
   "metadata": {},
   "outputs": [
    {
     "data": {
      "text/plain": [
       "{'C': 10.0, 'coef0': 0.001, 'degree': 3, 'gamma': 0.5, 'kernel': 'rbf'}"
      ]
     },
     "execution_count": 36,
     "metadata": {},
     "output_type": "execute_result"
    }
   ],
   "source": [
    "rnd_search.best_params_"
   ]
  },
  {
   "cell_type": "code",
   "execution_count": null,
   "id": "40c4098d",
   "metadata": {},
   "outputs": [],
   "source": []
  }
 ],
 "metadata": {
  "kernelspec": {
   "display_name": "Python 3.8.0 64-bit",
   "language": "python",
   "name": "python3"
  },
  "language_info": {
   "codemirror_mode": {
    "name": "ipython",
    "version": 3
   },
   "file_extension": ".py",
   "mimetype": "text/x-python",
   "name": "python",
   "nbconvert_exporter": "python",
   "pygments_lexer": "ipython3",
   "version": "3.8.0"
  },
  "vscode": {
   "interpreter": {
    "hash": "8f7966f791852dc8d3efa84237a2aea877d88803fed36f0ab10ea74530d7a649"
   }
  }
 },
 "nbformat": 4,
 "nbformat_minor": 5
}
