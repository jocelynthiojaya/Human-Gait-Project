{
 "cells": [
  {
   "cell_type": "code",
   "execution_count": 2,
   "id": "e47b7b9c",
   "metadata": {},
   "outputs": [],
   "source": [
    "import pandas as pd\n",
    "import numpy as np\n",
    "import matplotlib.pyplot as plt\n",
    "from sklearn.model_selection import train_test_split\n",
    "from sklearn.svm import SVC\n",
    "from sklearn import metrics\n",
    "from sklearn import preprocessing\n",
    "import csv\n",
    "from ast import literal_eval"
   ]
  },
  {
   "cell_type": "code",
   "execution_count": 21,
   "id": "33ae90c3",
   "metadata": {},
   "outputs": [
    {
     "name": "stdout",
     "output_type": "stream",
     "text": [
      "[LibSVM]Finished Training\n"
     ]
    }
   ],
   "source": [
    "data = pd.read_csv(\"csv/walk.csv\",index_col=False)\n",
    "# data = data.loc[data['id'].isin([1,3,4,5])]\n",
    "# X = data[[\"r_hip_ang\", \"r_knee_ang\", \"r_ankle_ang\", \"r_elbow_ang\", \"r_shoulder_ang\",\n",
    "#         \"r_hip_vel\", \"r_knee_vel\", \"r_ankle_vel\", \"r_elbow_vel\", \"r_shoulder_vel\",\n",
    "#         \"r_hip_accel\", \"r_knee_accel\", \"r_ankle_accel\", \"r_elbow_accel\", \"r_shoulder_accel\"]]\n",
    "X = data.drop(['id','gender','age'],axis=1)\n",
    "y = data['age']\n",
    "X  = preprocessing.scale(X)\n",
    "X_train, X_test, y_train, y_test = train_test_split(X, y, test_size = 0.20)\n",
    "\n",
    "svclassifier = SVC(kernel='rbf',C=10, degree=3, coef0=0.0, gamma='scale',verbose=10)\n",
    "# *, C=1.0, kernel='rbf', degree=3, gamma='scale', coef0=0.0,\n",
    "# param = {'kernel': ('linear','rbf'),\n",
    "#         'C': [0.01,0.1,1.0,10.0],\n",
    "#         'degree': [3,8],\n",
    "#         'coef0':[0.001,10,0.5],\n",
    "#         'gamma': [0.005,0.5]}\n",
    "# 0.9613437075460047\n",
    "# 0.9614243323442137\n",
    "svclassifier.fit(X_train, y_train)\n",
    "y_pred = svclassifier.predict(X_test)\n",
    "print('Finished Training')"
   ]
  },
  {
   "cell_type": "code",
   "execution_count": 22,
   "id": "8ecbb370",
   "metadata": {},
   "outputs": [
    {
     "name": "stdout",
     "output_type": "stream",
     "text": [
      "Accuracy: 0.9201292291124473\n",
      "[[ 9302   934]\n",
      " [  846 11204]]\n",
      "              precision    recall  f1-score   support\n",
      "\n",
      "         <40       0.92      0.91      0.91     10236\n",
      "         >40       0.92      0.93      0.93     12050\n",
      "\n",
      "    accuracy                           0.92     22286\n",
      "   macro avg       0.92      0.92      0.92     22286\n",
      "weighted avg       0.92      0.92      0.92     22286\n",
      "\n"
     ]
    }
   ],
   "source": [
    "print(\"Accuracy:\",metrics.accuracy_score(y_test, y_pred))\n",
    "\n",
    "from sklearn.metrics import classification_report, confusion_matrix\n",
    "print(confusion_matrix(y_test,y_pred))\n",
    "print(classification_report(y_test,y_pred))"
   ]
  },
  {
   "cell_type": "code",
   "execution_count": 4,
   "id": "8ade79eb",
   "metadata": {},
   "outputs": [],
   "source": [
    "from sklearn.model_selection import RandomizedSearchCV\n",
    "from sklearn.model_selection import GridSearchCV\n",
    "param = {'kernel': ('linear','rbf'),\n",
    "        'C': [0.01,0.1,1.0,10.0],\n",
    "        'degree': [3,8],\n",
    "        'coef0':[0.001,10,0.5],\n",
    "        'gamma': [0.005,0.5]}"
   ]
  },
  {
   "cell_type": "code",
   "execution_count": 5,
   "id": "52bd77a1",
   "metadata": {},
   "outputs": [
    {
     "name": "stdout",
     "output_type": "stream",
     "text": [
      "Fitting 5 folds for each of 10 candidates, totalling 50 fits\n"
     ]
    },
    {
     "data": {
      "text/plain": [
       "0.8024405694903395"
      ]
     },
     "execution_count": 5,
     "metadata": {},
     "output_type": "execute_result"
    }
   ],
   "source": [
    "rnd_search = RandomizedSearchCV(SVC(), param_distributions=param,n_jobs=-1, verbose = 10, n_iter =10)\n",
    "# GridSearchCV(SVC(), \n",
    "#                 param_grid=param, \n",
    "#                 n_jobs=-1, \n",
    "#                 verbose = 10)\n",
    "rnd_search.fit(X_train,y_train)\n",
    "rnd_search.best_score_"
   ]
  },
  {
   "cell_type": "code",
   "execution_count": 6,
   "id": "b1c5fc54",
   "metadata": {},
   "outputs": [
    {
     "data": {
      "text/plain": [
       "{'kernel': 'rbf', 'gamma': 0.5, 'degree': 3, 'coef0': 10, 'C': 10.0}"
      ]
     },
     "execution_count": 6,
     "metadata": {},
     "output_type": "execute_result"
    }
   ],
   "source": [
    "rnd_search.best_params_"
   ]
  },
  {
   "cell_type": "code",
   "execution_count": null,
   "id": "40c4098d",
   "metadata": {},
   "outputs": [],
   "source": []
  }
 ],
 "metadata": {
  "kernelspec": {
   "display_name": "Python 3.8.0 64-bit",
   "language": "python",
   "name": "python3"
  },
  "language_info": {
   "codemirror_mode": {
    "name": "ipython",
    "version": 3
   },
   "file_extension": ".py",
   "mimetype": "text/x-python",
   "name": "python",
   "nbconvert_exporter": "python",
   "pygments_lexer": "ipython3",
   "version": "3.8.0"
  },
  "vscode": {
   "interpreter": {
    "hash": "8f7966f791852dc8d3efa84237a2aea877d88803fed36f0ab10ea74530d7a649"
   }
  }
 },
 "nbformat": 4,
 "nbformat_minor": 5
}
