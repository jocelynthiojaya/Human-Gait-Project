{
 "cells": [
  {
   "cell_type": "code",
   "execution_count": 4,
   "id": "e47b7b9c",
   "metadata": {},
   "outputs": [],
   "source": [
    "import pandas as pd\n",
    "import numpy as np\n",
    "import matplotlib.pyplot as plt\n",
    "from sklearn.model_selection import train_test_split\n",
    "from sklearn.svm import SVC\n",
    "from sklearn import metrics\n",
    "from sklearn import preprocessing\n",
    "import csv\n",
    "from ast import literal_eval"
   ]
  },
  {
   "cell_type": "code",
   "execution_count": 5,
   "id": "33ae90c3",
   "metadata": {},
   "outputs": [
    {
     "name": "stdout",
     "output_type": "stream",
     "text": [
      "[LibSVM]Finished Training\n"
     ]
    }
   ],
   "source": [
    "data = pd.read_csv(\"finalwalk.csv\",index_col=False)\n",
    "X = data[['r_hip_ang','r_knee_ang','r_ankle_ang','r_elbow_ang','r_shoulder_ang']]\n",
    "y = data['gender']\n",
    "X  = preprocessing.scale(X)\n",
    "X_train, X_test, y_train, y_test = train_test_split(X, y, test_size = 0.20)\n",
    "svclassifier = SVC(kernel='rbf',C=10.0, degree=8,coef0=0.5, gamma=0.5,verbose=10)\n",
    "svclassifier.fit(X_train, y_train)\n",
    "y_pred = svclassifier.predict(X_test)\n",
    "print('Finished Training')"
   ]
  },
  {
   "cell_type": "code",
   "execution_count": 6,
   "id": "8ecbb370",
   "metadata": {},
   "outputs": [
    {
     "name": "stdout",
     "output_type": "stream",
     "text": [
      "Accuracy: 0.8670839469808542\n",
      "[[2133  492]\n",
      " [ 230 2577]]\n",
      "              precision    recall  f1-score   support\n",
      "\n",
      "      female       0.90      0.81      0.86      2625\n",
      "        male       0.84      0.92      0.88      2807\n",
      "\n",
      "    accuracy                           0.87      5432\n",
      "   macro avg       0.87      0.87      0.87      5432\n",
      "weighted avg       0.87      0.87      0.87      5432\n",
      "\n"
     ]
    }
   ],
   "source": [
    "print(\"Accuracy:\",metrics.accuracy_score(y_test, y_pred))\n",
    "\n",
    "from sklearn.metrics import classification_report, confusion_matrix\n",
    "print(confusion_matrix(y_test,y_pred))\n",
    "print(classification_report(y_test,y_pred))"
   ]
  },
  {
   "cell_type": "code",
   "execution_count": 21,
   "id": "8ade79eb",
   "metadata": {},
   "outputs": [],
   "source": [
    "#Using GridSearchCV to find best parameters\n",
    "from sklearn.model_selection import GridSearchCV\n",
    "\n",
    "param = {'kernel': ('linear','rbf'),\n",
    "        'C': [0.01,0.1,1.0,10.0,100.0,1000.0],\n",
    "        'degree': [3,8],\n",
    "        'coef0':[0.001,10,0.5],\n",
    "        'gamma': [0.005,5]}"
   ]
  },
  {
   "cell_type": "code",
   "execution_count": 24,
   "id": "52bd77a1",
   "metadata": {},
   "outputs": [
    {
     "name": "stdout",
     "output_type": "stream",
     "text": [
      "Fitting 5 folds for each of 10 candidates, totalling 50 fits\n"
     ]
    },
    {
     "data": {
      "text/plain": [
       "0.8667342349926109"
      ]
     },
     "execution_count": 24,
     "metadata": {},
     "output_type": "execute_result"
    }
   ],
   "source": [
    "from sklearn.model_selection import RandomizedSearchCV\n",
    "rnd_search = RandomizedSearchCV(SVC(), param_distributions=param,n_jobs=-1, verbose = 10, n_iter =10)\n",
    "rnd_search.fit(X_train,y_train)\n",
    "rnd_search.best_score_"
   ]
  },
  {
   "cell_type": "code",
   "execution_count": 25,
   "id": "b1c5fc54",
   "metadata": {},
   "outputs": [
    {
     "data": {
      "text/plain": [
       "{'kernel': 'rbf', 'gamma': 0.5, 'degree': 8, 'coef0': 0.5, 'C': 100.0}"
      ]
     },
     "execution_count": 25,
     "metadata": {},
     "output_type": "execute_result"
    }
   ],
   "source": [
    "rnd_search.best_params_"
   ]
  },
  {
   "cell_type": "code",
   "execution_count": null,
   "id": "40c4098d",
   "metadata": {},
   "outputs": [],
   "source": []
  }
 ],
 "metadata": {
  "kernelspec": {
   "display_name": "Python 3.8.0 64-bit",
   "language": "python",
   "name": "python3"
  },
  "language_info": {
   "codemirror_mode": {
    "name": "ipython",
    "version": 3
   },
   "file_extension": ".py",
   "mimetype": "text/x-python",
   "name": "python",
   "nbconvert_exporter": "python",
   "pygments_lexer": "ipython3",
   "version": "3.8.0"
  },
  "vscode": {
   "interpreter": {
    "hash": "8f7966f791852dc8d3efa84237a2aea877d88803fed36f0ab10ea74530d7a649"
   }
  }
 },
 "nbformat": 4,
 "nbformat_minor": 5
}
