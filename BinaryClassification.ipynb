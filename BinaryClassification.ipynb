{
 "cells": [
  {
   "cell_type": "code",
   "execution_count": 32,
   "id": "e47b7b9c",
   "metadata": {},
   "outputs": [],
   "source": [
    "import pandas as pd\n",
    "import numpy as np\n",
    "import matplotlib.pyplot as plt\n",
    "from sklearn.model_selection import train_test_split\n",
    "from sklearn.svm import SVC\n",
    "from sklearn import metrics\n",
    "import csv\n",
    "from ast import literal_eval"
   ]
  },
  {
   "cell_type": "code",
   "execution_count": 33,
   "id": "33ae90c3",
   "metadata": {},
   "outputs": [
    {
     "name": "stdout",
     "output_type": "stream",
     "text": [
      "Finished Training\n"
     ]
    }
   ],
   "source": [
    "data = pd.read_csv(\"csvoutput/finalwalk.csv\",index_col=False)\n",
    "X = data[['r_hip_ang','r_knee_ang','r_ankle_ang','r_elbow_ang','r_shoulder_ang']]\n",
    "y = data['gender']\n",
    "X_train, X_test, y_train, y_test = train_test_split(X, y, test_size = 0.20)\n",
    "svclassifier = SVC(kernel='rbf')\n",
    "svclassifier.fit(X_train, y_train)\n",
    "y_pred = svclassifier.predict(X_test)\n",
    "print('Finished Training')"
   ]
  },
  {
   "cell_type": "code",
   "execution_count": 36,
   "id": "8ecbb370",
   "metadata": {},
   "outputs": [
    {
     "name": "stdout",
     "output_type": "stream",
     "text": [
      "Accuracy: 0.7628999445163677\n",
      "[[1860  753]\n",
      " [ 529 2265]]\n",
      "              precision    recall  f1-score   support\n",
      "\n",
      "      female       0.78      0.71      0.74      2613\n",
      "        male       0.75      0.81      0.78      2794\n",
      "\n",
      "    accuracy                           0.76      5407\n",
      "   macro avg       0.76      0.76      0.76      5407\n",
      "weighted avg       0.76      0.76      0.76      5407\n",
      "\n"
     ]
    }
   ],
   "source": [
    "print(\"Accuracy:\",metrics.accuracy_score(y_test, y_pred))\n",
    "\n",
    "from sklearn.metrics import classification_report, confusion_matrix\n",
    "print(confusion_matrix(y_test,y_pred))\n",
    "print(classification_report(y_test,y_pred))"
   ]
  },
  {
   "cell_type": "code",
   "execution_count": null,
   "id": "8ade79eb",
   "metadata": {},
   "outputs": [],
   "source": []
  }
 ],
 "metadata": {},
 "nbformat": 4,
 "nbformat_minor": 5
}
