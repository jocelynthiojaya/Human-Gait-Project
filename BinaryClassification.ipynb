{
 "cells": [
  {
   "cell_type": "code",
   "execution_count": 1,
   "id": "e47b7b9c",
   "metadata": {},
   "outputs": [],
   "source": [
    "import pandas as pd\n",
    "import numpy as np\n",
    "import matplotlib.pyplot as plt\n",
    "from sklearn.model_selection import train_test_split\n",
    "from sklearn.svm import SVC\n",
    "from sklearn import metrics\n",
    "import csv\n",
    "from ast import literal_eval"
   ]
  },
  {
   "cell_type": "code",
   "execution_count": 2,
   "id": "33ae90c3",
   "metadata": {},
   "outputs": [
    {
     "name": "stdout",
     "output_type": "stream",
     "text": [
      "Finished Training\n"
     ]
    }
   ],
   "source": [
    "data = pd.read_csv(\"csvoutput/finalwalk.csv\",index_col=False)\n",
    "X = data[['r_hip_ang','r_knee_ang','r_ankle_ang','r_elbow_ang','r_shoulder_ang']]\n",
    "y = data['gender']\n",
    "X_train, X_test, y_train, y_test = train_test_split(X, y, test_size = 0.20)\n",
    "svclassifier = SVC(kernel='rbf')\n",
    "svclassifier.fit(X_train, y_train)\n",
    "y_pred = svclassifier.predict(X_test)\n",
    "print('Finished Training')"
   ]
  },
  {
   "cell_type": "code",
   "execution_count": 3,
   "id": "8ecbb370",
   "metadata": {},
   "outputs": [
    {
     "name": "stdout",
     "output_type": "stream",
     "text": [
      "Accuracy: 0.760865544664324\n",
      "[[1866  768]\n",
      " [ 525 2248]]\n",
      "              precision    recall  f1-score   support\n",
      "\n",
      "      female       0.78      0.71      0.74      2634\n",
      "        male       0.75      0.81      0.78      2773\n",
      "\n",
      "    accuracy                           0.76      5407\n",
      "   macro avg       0.76      0.76      0.76      5407\n",
      "weighted avg       0.76      0.76      0.76      5407\n",
      "\n"
     ]
    }
   ],
   "source": [
    "print(\"Accuracy:\",metrics.accuracy_score(y_test, y_pred))\n",
    "\n",
    "from sklearn.metrics import classification_report, confusion_matrix\n",
    "print(confusion_matrix(y_test,y_pred))\n",
    "print(classification_report(y_test,y_pred))"
   ]
  },
  {
   "cell_type": "code",
   "execution_count": 4,
   "id": "8ade79eb",
   "metadata": {},
   "outputs": [],
   "source": [
    "#Using GridSearchCV to find best parameters\n",
    "from sklearn.model_selection import GridSearchCV\n",
    "\n",
    "param = {'kernel': ('linear','poly','rbf'),\n",
    "        'C': [0.1,1.0,10.0,100.0,1000.0,10000.0,100000.0],\n",
    "        'degree': [3,8],\n",
    "        'coef0':[0.001,10,0.5],\n",
    "        'gamma': ('auto','scale')}"
   ]
  },
  {
   "cell_type": "code",
   "execution_count": 5,
   "id": "f496747c",
   "metadata": {},
   "outputs": [],
   "source": [
    "# SVModel = SVC()\n",
    "# grid_search = GridSearchCV(SVModel, param, cv=5)\n",
    "# grid_search.fit(X_train,y_train)"
   ]
  },
  {
   "cell_type": "code",
   "execution_count": 6,
   "id": "30aa0735",
   "metadata": {},
   "outputs": [],
   "source": [
    "# grid_search.best_params_"
   ]
  },
  {
   "cell_type": "code",
   "execution_count": 7,
   "id": "52bd77a1",
   "metadata": {},
   "outputs": [
    {
     "name": "stdout",
     "output_type": "stream",
     "text": [
      "Fitting 9 folds for each of 10 candidates, totalling 90 fits\n"
     ]
    }
   ],
   "source": [
    "from sklearn.model_selection import RandomizedSearchCV\n",
    "rnd_search = RandomizedSearchCV(SVC(), param_distributions=param,n_jobs=-1, verbose = 1, n_iter =10)\n",
    "rnd_search.fit(X_train,y_train)\n",
    "rnd_search.best_params_\n",
    "rnd_search.best_score_"
   ]
  }
 ],
 "metadata": {
  "kernelspec": {
   "display_name": "Python 3.9.2 64-bit",
   "language": "python",
   "name": "python3"
  },
  "language_info": {
   "codemirror_mode": {
    "name": "ipython",
    "version": 3
   },
   "file_extension": ".py",
   "mimetype": "text/x-python",
   "name": "python",
   "nbconvert_exporter": "python",
   "pygments_lexer": "ipython3",
   "version": "3.9.2"
  },
  "vscode": {
   "interpreter": {
    "hash": "81794d4967e6c3204c66dcd87b604927b115b27c00565d3d43f05ba2f3a2cb0d"
   }
  }
 },
 "nbformat": 4,
 "nbformat_minor": 5
}
