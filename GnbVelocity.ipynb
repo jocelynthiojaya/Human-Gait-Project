{
 "cells": [
  {
   "cell_type": "code",
   "execution_count": 1,
   "id": "e47b7b9c",
   "metadata": {},
   "outputs": [],
   "source": [
    "import pandas as pd\n",
    "import numpy as np\n",
    "import matplotlib.pyplot as plt\n",
    "from sklearn.model_selection import train_test_split\n",
    "from sklearn.naive_bayes import GaussianNB\n",
    "from sklearn import metrics\n",
    "from sklearn import preprocessing\n",
    "import csv\n",
    "from ast import literal_eval"
   ]
  },
  {
   "cell_type": "code",
   "execution_count": 2,
   "id": "33ae90c3",
   "metadata": {},
   "outputs": [
    {
     "name": "stdout",
     "output_type": "stream",
     "text": [
      "Finished Training\n"
     ]
    }
   ],
   "source": [
    "data = pd.read_csv(\"csv/walk.csv\",index_col=False)\n",
    "X = data[[\"r_hip_ang\", \"r_knee_ang\", \"r_ankle_ang\", \"r_elbow_ang\", \"r_shoulder_ang\",\n",
    "        \"r_hip_vel\", \"r_knee_vel\", \"r_ankle_vel\", \"r_elbow_vel\", \"r_shoulder_vel\",\n",
    "        \"r_hip_accel\", \"r_knee_accel\", \"r_ankle_accel\", \"r_elbow_accel\", \"r_shoulder_accel\"]]\n",
    "#X = data.drop('gender',axis=1)\n",
    "y = data['gender']\n",
    "X  = preprocessing.scale(X) \n",
    "X_train, X_test, y_train, y_test = train_test_split(X, y, test_size = 0.20)\n",
    "\n",
    "gnbclassifier = GaussianNB(var_smoothing= 0.004328761281083057)\n",
    "gnbclassifier.fit(X_train, y_train)\n",
    "y_pred = gnbclassifier.predict(X_test)\n",
    "print('Finished Training')"
   ]
  },
  {
   "cell_type": "code",
   "execution_count": 3,
   "id": "8ecbb370",
   "metadata": {},
   "outputs": [
    {
     "name": "stdout",
     "output_type": "stream",
     "text": [
      "Accuracy: 0.6207029741212824\n",
      "[[1348 3702]\n",
      " [ 226 5080]]\n",
      "              precision    recall  f1-score   support\n",
      "\n",
      "      female       0.86      0.27      0.41      5050\n",
      "        male       0.58      0.96      0.72      5306\n",
      "\n",
      "    accuracy                           0.62     10356\n",
      "   macro avg       0.72      0.61      0.56     10356\n",
      "weighted avg       0.71      0.62      0.57     10356\n",
      "\n"
     ]
    }
   ],
   "source": [
    "print(\"Accuracy:\",metrics.accuracy_score(y_test, y_pred))\n",
    "\n",
    "from sklearn.metrics import classification_report, confusion_matrix\n",
    "print(confusion_matrix(y_test,y_pred))\n",
    "print(classification_report(y_test,y_pred))"
   ]
  },
  {
   "cell_type": "code",
   "execution_count": 51,
   "id": "8ade79eb",
   "metadata": {},
   "outputs": [],
   "source": [
    "from sklearn.model_selection import RandomizedSearchCV\n",
    "from sklearn.model_selection import GridSearchCV\n",
    "\n",
    "params_NB = {'var_smoothing': np.logspace(0,-9, num=100)}"
   ]
  },
  {
   "cell_type": "code",
   "execution_count": 52,
   "id": "52bd77a1",
   "metadata": {},
   "outputs": [
    {
     "name": "stdout",
     "output_type": "stream",
     "text": [
      "Fitting 15 folds for each of 100 candidates, totalling 1500 fits\n"
     ]
    },
    {
     "data": {
      "text/plain": [
       "0.7196523418638339"
      ]
     },
     "execution_count": 52,
     "metadata": {},
     "output_type": "execute_result"
    }
   ],
   "source": [
    "from sklearn.model_selection import RepeatedStratifiedKFold\n",
    "\n",
    "cv_method = RepeatedStratifiedKFold(n_splits=5, n_repeats=3, random_state=999)\n",
    "\n",
    "gs_NB = GridSearchCV(estimator=GaussianNB(), \n",
    "                 param_grid=params_NB, \n",
    "                 cv=cv_method,   # use any cross validation technique \n",
    "                 verbose=1, \n",
    "                 scoring='accuracy',\n",
    "                 n_jobs=-1) \n",
    "gs_NB.fit(X_train, y_train)\n",
    "gs_NB.best_score_"
   ]
  },
  {
   "cell_type": "code",
   "execution_count": 53,
   "id": "b1c5fc54",
   "metadata": {},
   "outputs": [
    {
     "data": {
      "text/plain": [
       "{'var_smoothing': 0.01}"
      ]
     },
     "execution_count": 53,
     "metadata": {},
     "output_type": "execute_result"
    }
   ],
   "source": [
    "gs_NB.best_params_"
   ]
  },
  {
   "cell_type": "code",
   "execution_count": null,
   "id": "40c4098d",
   "metadata": {},
   "outputs": [],
   "source": []
  }
 ],
 "metadata": {
  "kernelspec": {
   "display_name": "Python 3.8.0 64-bit",
   "language": "python",
   "name": "python3"
  },
  "language_info": {
   "codemirror_mode": {
    "name": "ipython",
    "version": 3
   },
   "file_extension": ".py",
   "mimetype": "text/x-python",
   "name": "python",
   "nbconvert_exporter": "python",
   "pygments_lexer": "ipython3",
   "version": "3.8.0"
  },
  "vscode": {
   "interpreter": {
    "hash": "8f7966f791852dc8d3efa84237a2aea877d88803fed36f0ab10ea74530d7a649"
   }
  }
 },
 "nbformat": 4,
 "nbformat_minor": 5
}
